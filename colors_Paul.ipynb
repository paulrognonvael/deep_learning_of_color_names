{
  "nbformat": 4,
  "nbformat_minor": 0,
  "metadata": {
    "kernelspec": {
      "display_name": "Python 3",
      "language": "python",
      "name": "python3"
    },
    "language_info": {
      "codemirror_mode": {
        "name": "ipython",
        "version": 3
      },
      "file_extension": ".py",
      "mimetype": "text/x-python",
      "name": "python",
      "nbconvert_exporter": "python",
      "pygments_lexer": "ipython3",
      "version": "3.5.2"
    },
    "colab": {
      "name": "Ass3-colors_Paul.ipynb",
      "provenance": [],
      "collapsed_sections": [],
      "toc_visible": true,
      "include_colab_link": true
    },
    "accelerator": "GPU"
  },
  "cells": [
    {
      "cell_type": "markdown",
      "metadata": {
        "id": "view-in-github",
        "colab_type": "text"
      },
      "source": [
        "<a href=\"https://colab.research.google.com/github/polrgn/deep_learning_of_color_names/blob/main/colors_Paul.ipynb\" target=\"_parent\"><img src=\"https://colab.research.google.com/assets/colab-badge.svg\" alt=\"Open In Colab\"/></a>"
      ]
    },
    {
      "cell_type": "markdown",
      "metadata": {
        "id": "OCxmtRVbJbSx"
      },
      "source": [
        "# Assignment 3: Colors and Word Models.\n",
        "\n",
        "The following cells describe how to build a neural network that generates color names from RGB values.\n",
        "\n",
        "We can give the neural network a list of paint colors (14157) along with their RGB values. (RGB = red, green, and blue color values).\n",
        "\n",
        "Could the neural network learn to invent new paint colors and give them \"meaningful\" names?"
      ]
    },
    {
      "cell_type": "markdown",
      "metadata": {
        "id": "lu2lsP9T71fI"
      },
      "source": [
        "## Setting up the environment and data"
      ]
    },
    {
      "cell_type": "markdown",
      "metadata": {
        "id": "1v0nP98g6-t2"
      },
      "source": [
        "Library imports"
      ]
    },
    {
      "cell_type": "code",
      "metadata": {
        "id": "fbIn4eB8nH3N",
        "colab": {
          "base_uri": "https://localhost:8080/"
        },
        "outputId": "7273c17b-d50d-4646-c82a-ed8bf02b0ca7"
      },
      "source": [
        "import tensorflow as tf\n",
        "from tensorflow.python import keras\n",
        "from tensorflow.python.keras import preprocessing\n",
        "from tensorflow.python.keras.preprocessing.text import Tokenizer\n",
        "from tensorflow.python.keras.models import Sequential\n",
        "from tensorflow.python.keras.layers import Dense, Dropout, LSTM, GRU, Reshape, TimeDistributed, RepeatVector, Embedding, Bidirectional, Masking\n",
        "import os\n",
        "import numpy as np\n",
        "import pandas\n",
        "import matplotlib.pyplot as plt\n",
        "import io\n",
        "import requests\n",
        "import random\n",
        "\n",
        "np.random.seed(10)\n",
        "print (tf.__version__)"
      ],
      "execution_count": null,
      "outputs": [
        {
          "output_type": "stream",
          "text": [
            "2.4.0\n"
          ],
          "name": "stdout"
        }
      ]
    },
    {
      "cell_type": "markdown",
      "metadata": {
        "id": "SjSVNHTO7DBW"
      },
      "source": [
        "Mounting of Google drive"
      ]
    },
    {
      "cell_type": "code",
      "metadata": {
        "colab": {
          "base_uri": "https://localhost:8080/"
        },
        "id": "MQHJfOblOrnU",
        "outputId": "57b228bc-56fd-49b2-fc41-b64015e782b9"
      },
      "source": [
        "# Mounting Google drive where we save our data and embeddings\r\n",
        "from google.colab import drive\r\n",
        "drive.mount('/content/drive/')"
      ],
      "execution_count": null,
      "outputs": [
        {
          "output_type": "stream",
          "text": [
            "Mounted at /content/drive/\n"
          ],
          "name": "stdout"
        }
      ]
    },
    {
      "cell_type": "markdown",
      "metadata": {
        "id": "hmFwybut7Lgh"
      },
      "source": [
        "Getting the dataset of color names and corresponding RGB vectors."
      ]
    },
    {
      "cell_type": "code",
      "metadata": {
        "id": "hhUH5hkTn1Ll",
        "colab": {
          "base_uri": "https://localhost:8080/",
          "height": 676
        },
        "outputId": "288939b5-439d-4963-c539-de3232b4ca48"
      },
      "source": [
        "url=\"https://raw.githubusercontent.com/Tony607/Keras-Colors/master/colors.csv\"\n",
        "s=requests.get(url).content\n",
        "data=pandas.read_csv(io.StringIO(s.decode('utf-8')))\n",
        "data.head(20)\n"
      ],
      "execution_count": null,
      "outputs": [
        {
          "output_type": "execute_result",
          "data": {
            "text/html": [
              "<div>\n",
              "<style scoped>\n",
              "    .dataframe tbody tr th:only-of-type {\n",
              "        vertical-align: middle;\n",
              "    }\n",
              "\n",
              "    .dataframe tbody tr th {\n",
              "        vertical-align: top;\n",
              "    }\n",
              "\n",
              "    .dataframe thead th {\n",
              "        text-align: right;\n",
              "    }\n",
              "</style>\n",
              "<table border=\"1\" class=\"dataframe\">\n",
              "  <thead>\n",
              "    <tr style=\"text-align: right;\">\n",
              "      <th></th>\n",
              "      <th>name</th>\n",
              "      <th>red</th>\n",
              "      <th>green</th>\n",
              "      <th>blue</th>\n",
              "    </tr>\n",
              "  </thead>\n",
              "  <tbody>\n",
              "    <tr>\n",
              "      <th>0</th>\n",
              "      <td>parakeet</td>\n",
              "      <td>174</td>\n",
              "      <td>182</td>\n",
              "      <td>87</td>\n",
              "    </tr>\n",
              "    <tr>\n",
              "      <th>1</th>\n",
              "      <td>saddle brown</td>\n",
              "      <td>88</td>\n",
              "      <td>52</td>\n",
              "      <td>1</td>\n",
              "    </tr>\n",
              "    <tr>\n",
              "      <th>2</th>\n",
              "      <td>cucumber crush</td>\n",
              "      <td>222</td>\n",
              "      <td>237</td>\n",
              "      <td>215</td>\n",
              "    </tr>\n",
              "    <tr>\n",
              "      <th>3</th>\n",
              "      <td>pool blue</td>\n",
              "      <td>134</td>\n",
              "      <td>194</td>\n",
              "      <td>201</td>\n",
              "    </tr>\n",
              "    <tr>\n",
              "      <th>4</th>\n",
              "      <td>distance</td>\n",
              "      <td>98</td>\n",
              "      <td>110</td>\n",
              "      <td>130</td>\n",
              "    </tr>\n",
              "    <tr>\n",
              "      <th>5</th>\n",
              "      <td>light urple</td>\n",
              "      <td>179</td>\n",
              "      <td>111</td>\n",
              "      <td>246</td>\n",
              "    </tr>\n",
              "    <tr>\n",
              "      <th>6</th>\n",
              "      <td>east side</td>\n",
              "      <td>172</td>\n",
              "      <td>145</td>\n",
              "      <td>206</td>\n",
              "    </tr>\n",
              "    <tr>\n",
              "      <th>7</th>\n",
              "      <td>florida seashells</td>\n",
              "      <td>250</td>\n",
              "      <td>228</td>\n",
              "      <td>199</td>\n",
              "    </tr>\n",
              "    <tr>\n",
              "      <th>8</th>\n",
              "      <td>paris</td>\n",
              "      <td>145</td>\n",
              "      <td>167</td>\n",
              "      <td>189</td>\n",
              "    </tr>\n",
              "    <tr>\n",
              "      <th>9</th>\n",
              "      <td>powder blush</td>\n",
              "      <td>247</td>\n",
              "      <td>215</td>\n",
              "      <td>215</td>\n",
              "    </tr>\n",
              "    <tr>\n",
              "      <th>10</th>\n",
              "      <td>middle blue</td>\n",
              "      <td>126</td>\n",
              "      <td>212</td>\n",
              "      <td>230</td>\n",
              "    </tr>\n",
              "    <tr>\n",
              "      <th>11</th>\n",
              "      <td>turtle green</td>\n",
              "      <td>165</td>\n",
              "      <td>171</td>\n",
              "      <td>139</td>\n",
              "    </tr>\n",
              "    <tr>\n",
              "      <th>12</th>\n",
              "      <td>relaxing blue</td>\n",
              "      <td>137</td>\n",
              "      <td>156</td>\n",
              "      <td>171</td>\n",
              "    </tr>\n",
              "    <tr>\n",
              "      <th>13</th>\n",
              "      <td>wasabi powder</td>\n",
              "      <td>189</td>\n",
              "      <td>179</td>\n",
              "      <td>144</td>\n",
              "    </tr>\n",
              "    <tr>\n",
              "      <th>14</th>\n",
              "      <td>rosemary sprig</td>\n",
              "      <td>97</td>\n",
              "      <td>104</td>\n",
              "      <td>81</td>\n",
              "    </tr>\n",
              "    <tr>\n",
              "      <th>15</th>\n",
              "      <td>light mauve</td>\n",
              "      <td>194</td>\n",
              "      <td>146</td>\n",
              "      <td>161</td>\n",
              "    </tr>\n",
              "    <tr>\n",
              "      <th>16</th>\n",
              "      <td>airbrushed copper</td>\n",
              "      <td>170</td>\n",
              "      <td>108</td>\n",
              "      <td>82</td>\n",
              "    </tr>\n",
              "    <tr>\n",
              "      <th>17</th>\n",
              "      <td>snow flurry</td>\n",
              "      <td>228</td>\n",
              "      <td>255</td>\n",
              "      <td>209</td>\n",
              "    </tr>\n",
              "    <tr>\n",
              "      <th>18</th>\n",
              "      <td>aurora brown</td>\n",
              "      <td>108</td>\n",
              "      <td>69</td>\n",
              "      <td>57</td>\n",
              "    </tr>\n",
              "    <tr>\n",
              "      <th>19</th>\n",
              "      <td>gold buff</td>\n",
              "      <td>235</td>\n",
              "      <td>188</td>\n",
              "      <td>126</td>\n",
              "    </tr>\n",
              "  </tbody>\n",
              "</table>\n",
              "</div>"
            ],
            "text/plain": [
              "                 name  red  green  blue\n",
              "0            parakeet  174    182    87\n",
              "1        saddle brown   88     52     1\n",
              "2      cucumber crush  222    237   215\n",
              "3           pool blue  134    194   201\n",
              "4            distance   98    110   130\n",
              "5         light urple  179    111   246\n",
              "6           east side  172    145   206\n",
              "7   florida seashells  250    228   199\n",
              "8               paris  145    167   189\n",
              "9        powder blush  247    215   215\n",
              "10        middle blue  126    212   230\n",
              "11       turtle green  165    171   139\n",
              "12      relaxing blue  137    156   171\n",
              "13      wasabi powder  189    179   144\n",
              "14     rosemary sprig   97    104    81\n",
              "15        light mauve  194    146   161\n",
              "16  airbrushed copper  170    108    82\n",
              "17        snow flurry  228    255   209\n",
              "18       aurora brown  108     69    57\n",
              "19          gold buff  235    188   126"
            ]
          },
          "metadata": {
            "tags": []
          },
          "execution_count": 3
        }
      ]
    },
    {
      "cell_type": "markdown",
      "metadata": {
        "id": "jQ_u4McO7W3_"
      },
      "source": [
        "A short exploration of the dataset."
      ]
    },
    {
      "cell_type": "code",
      "metadata": {
        "id": "jQp7dODTnH3O",
        "colab": {
          "base_uri": "https://localhost:8080/",
          "height": 354
        },
        "outputId": "5a71b4de-c128-4f0b-c397-c4d95a732d8f"
      },
      "source": [
        "names = data[\"name\"].str.lower()\r\n",
        "print('Number of samples:',len(data))\r\n",
        "print('Is there any capitalized letter in colour names?', bool(sum([1-x.islower() for x in names.values])))\r\n",
        "\r\n",
        "\r\n",
        "colname_len = [len(x) for x in names.str.split(\" \", n = -1).values]\r\n",
        "print('Max number of words in colour names:', max(colname_len))\r\n",
        "print('Dsitribution of the number of words in colour names:')\r\n",
        "plt.hist(colname_len, align = 'left')      #use this to draw histogram of your data\r\n",
        "plt.xlabel('# words')\r\n",
        "plt.ylabel('Frequency')\r\n",
        "plt.show()"
      ],
      "execution_count": null,
      "outputs": [
        {
          "output_type": "stream",
          "text": [
            "Number of samples: 14157\n",
            "Is there any capitalized letter in colour names? False\n",
            "Max number of words in colour names: 6\n",
            "Dsitribution of the number of words in colour names:\n"
          ],
          "name": "stdout"
        },
        {
          "output_type": "display_data",
          "data": {
            "image/png": "[encoded data removed]",
            "text/plain": [
              "<Figure size 432x288 with 1 Axes>"
            ]
          },
          "metadata": {
            "tags": [],
            "needs_background": "light"
          }
        }
      ]
    },
    {
      "cell_type": "markdown",
      "metadata": {
        "id": "-tM-t9kd8DJ5"
      },
      "source": [
        "## Task 1: a neural network to get a RGB color vector from a word"
      ]
    },
    {
      "cell_type": "markdown",
      "metadata": {
        "id": "dNgszY9T8Q7o"
      },
      "source": [
        "The approach we have chosen for this task is to vectorize the color names by tokenizing each **word** and matching them with .pre-trained embeddings."
      ]
    },
    {
      "cell_type": "markdown",
      "metadata": {
        "id": "-n5FnYkjnH3O"
      },
      "source": [
        "### Tokenizing at word level\n",
        "\n",
        "We will consider that every color name is a sequences of words to used pre-trained word embeddings. A common trick in NLP is limiting the number of tokens (words) to exclude the rare ones to improve the generalization of the model. However, we have here a specialised and nuanced vocabulary for color names. As a result the size of the vocabulary is not too big, plus it is important to keep nuances because we want the model to predict nuanced colors."
      ]
    },
    {
      "cell_type": "code",
      "metadata": {
        "id": "UuzHeDAVnH3O",
        "colab": {
          "base_uri": "https://localhost:8080/"
        },
        "outputId": "c40f7d12-f617-4199-c923-64f4710d20a4"
      },
      "source": [
        "t = Tokenizer(num_words=None)\n",
        "t.fit_on_texts(names)\n",
        "word_index = t.word_index\n",
        "print('Found %s unique tokens.' % len(word_index))"
      ],
      "execution_count": null,
      "outputs": [
        {
          "output_type": "stream",
          "text": [
            "Found 6371 unique tokens.\n"
          ],
          "name": "stdout"
        }
      ]
    },
    {
      "cell_type": "markdown",
      "metadata": {
        "id": "Adk1igbi85tM"
      },
      "source": [
        " We have seen in a our short exploration of the dataset that color names have different length from 1 to 6. We then convert them to sequences that we pad them, to get a 6 long sequence for each name. "
      ]
    },
    {
      "cell_type": "code",
      "metadata": {
        "id": "kSv8KipsAy17"
      },
      "source": [
        "maxlen = 6\r\n",
        "tokenized = t.texts_to_sequences(names)\r\n",
        "padded_names = preprocessing.sequence.pad_sequences(tokenized, maxlen=maxlen)"
      ],
      "execution_count": null,
      "outputs": []
    },
    {
      "cell_type": "markdown",
      "metadata": {
        "id": "-VmfcyWGHdR0"
      },
      "source": [
        "### Pre-trained embeddings\r\n",
        "\r\n",
        "We have explored two families of pre-trained embeddings readily available online: the [GloVe](https://nlp.stanford.edu/projects/glove/) and [fastText](https://fasttext.cc/).\r\n",
        "\r\n",
        "Each of them come in different versions depending of the corpus of texts it was trained on and the dimension of the word vectors. We retained the GloVe with 42B words, trained on Common Crawl and with dimension 300 as it yielded the best results in terms of error."
      ]
    },
    {
      "cell_type": "code",
      "metadata": {
        "id": "HpYt0niWHcn7"
      },
      "source": [
        "# Download the pre-trained embeddings\r\n",
        "#!wget http://nlp.stanford.edu/data/glove.42B.300d.zip"
      ],
      "execution_count": null,
      "outputs": []
    },
    {
      "cell_type": "code",
      "metadata": {
        "id": "mGMMi9j1RZr2"
      },
      "source": [
        "# Unzip on drive\r\n",
        "# import zipfile\r\n",
        "# with zipfile.ZipFile('glove.42B.300d.zip', 'r') as zip_ref:\r\n",
        "#     zip_ref.extractall('drive/MyDrive/dl_assignment_3')"
      ],
      "execution_count": null,
      "outputs": []
    },
    {
      "cell_type": "code",
      "metadata": {
        "id": "eBJ71okbIS79",
        "colab": {
          "base_uri": "https://localhost:8080/"
        },
        "outputId": "c281ba30-b145-4dc8-84bf-f83cd689ac69"
      },
      "source": [
        "# Extract the words vectors from GloVe embeddings txt file\r\n",
        "embeddings_index = {}\r\n",
        "f = open(os.path.join('drive/MyDrive/dl_assignment_3', 'glove.42B.300d.txt'))\r\n",
        "for line in f:\r\n",
        "    values = line.split()\r\n",
        "    word = values[0]\r\n",
        "    coefs = np.asarray(values[1:], dtype='float32')\r\n",
        "    embeddings_index[word] = coefs\r\n",
        "f.close()\r\n",
        "\r\n",
        "print('Found %s word vectors.' % len(embeddings_index))\r\n",
        "\r\n",
        "# Build our embedding matrix by matching the tokens (words) in our dataset to\r\n",
        "# the pre-trained embeddings.\r\n",
        "\r\n",
        "# Code inspired from\r\n",
        "# https://blog.keras.io/using-pre-trained-word-embeddings-in-a-keras-model.html\r\n",
        "\r\n",
        "words_in_data = []\r\n",
        "embedding_matrix = np.zeros((len(word_index) + 1, 300))\r\n",
        "for word, i in word_index.items():\r\n",
        "    embedding_vector = embeddings_index.get(word)\r\n",
        "    if embedding_vector is not None:\r\n",
        "        # words not found in embedding index will be all-zeros.\r\n",
        "        embedding_matrix[i] = embedding_vector\r\n",
        "        words_in_data.append(word)\r\n",
        "\r\n",
        "# Save our embedding matrix\r\n",
        "np.savetxt('drive/MyDrive/dl_assignment_3/embedding_matrix.csv', embedding_matrix, delimiter=',')"
      ],
      "execution_count": null,
      "outputs": [
        {
          "output_type": "stream",
          "text": [
            "Found 1917494 word vectors.\n"
          ],
          "name": "stdout"
        }
      ]
    },
    {
      "cell_type": "code",
      "metadata": {
        "id": "b47BEhsQ2e8l"
      },
      "source": [
        "# Load our saved embedding matrix\r\n",
        "embedding_matrix = np.loadtxt('drive/MyDrive/dl_assignment_3/embedding_matrix.csv',delimiter=',')"
      ],
      "execution_count": null,
      "outputs": []
    },
    {
      "cell_type": "markdown",
      "metadata": {
        "id": "nLS6Ds1KnH3O"
      },
      "source": [
        "### Model"
      ]
    },
    {
      "cell_type": "code",
      "metadata": {
        "id": "MjKIzWa2nH3O"
      },
      "source": [
        "# The RGB values are between 0 - 255\n",
        "# scale them to be between 0 - 1\n",
        "def norm(value):\n",
        "    return value / 255.0\n",
        "\n",
        "normalized_values = np.column_stack([norm(data[\"red\"]), norm(data[\"green\"]), norm(data[\"blue\"])])\n"
      ],
      "execution_count": null,
      "outputs": []
    },
    {
      "cell_type": "markdown",
      "metadata": {
        "id": "IpiYcWsMMwiI"
      },
      "source": [
        "Now we build a LSTM model that reads sequences of words and produces a scaled-RGB triplet as output. This is a many-to-one sequential model. We use a single bidirectional LSTM layer as increasing the number of layers did not prove to be helpful.\r\n",
        "\r\n",
        "Alternatives we considered and that we found were not more accurate than LSTM have been:\r\n",
        "\r\n",
        "*   character level one-hot encoding of colour names,\r\n",
        "*   replacing LSTM by unidirectional or bidirectional GRU layers,\r\n",
        "*   implementing an one-dimesional convolution network,\r\n",
        "*   variations of the number of LSTM layers and their sizes and activation function of the dense layer.\r\n",
        "\r\n",
        "We add two dropout layers, use mean squared error as loss, adamax as optimizer and compute the mean absolute errror as metric.\r\n"
      ]
    },
    {
      "cell_type": "code",
      "metadata": {
        "id": "Epm7lWg9nH3O",
        "colab": {
          "base_uri": "https://localhost:8080/"
        },
        "outputId": "731d43ab-163c-4bb3-dc99-43eec8824707"
      },
      "source": [
        "# Inititate, define and compile the model\n",
        "model = Sequential()\n",
        "model.add(Embedding(len(word_index)+1,300,input_length=6,weights=[embedding_matrix],trainable=True))\n",
        "#model.add(Bidirectional(LSTM(64, return_sequences=True)))\n",
        "model.add(Dropout(0.4))\n",
        "model.add(Bidirectional(LSTM(16)))\n",
        "#model.add(Dense(16, activation='relu'))\n",
        "model.add(Dropout(0.4))\n",
        "model.add(Dense(3, activation='sigmoid'))\n",
        "model.compile(optimizer='adamax', loss='mse', metrics=['mae','acc'])\n",
        "model.summary()"
      ],
      "execution_count": null,
      "outputs": [
        {
          "output_type": "stream",
          "text": [
            "Model: \"sequential_28\"\n",
            "_________________________________________________________________\n",
            "Layer (type)                 Output Shape              Param #   \n",
            "=================================================================\n",
            "embedding_28 (Embedding)     (None, 6, 300)            1911600   \n",
            "_________________________________________________________________\n",
            "dropout_50 (Dropout)         (None, 6, 300)            0         \n",
            "_________________________________________________________________\n",
            "bidirectional_31 (Bidirectio (None, 32)                40576     \n",
            "_________________________________________________________________\n",
            "dropout_51 (Dropout)         (None, 32)                0         \n",
            "_________________________________________________________________\n",
            "dense_28 (Dense)             (None, 3)                 99        \n",
            "=================================================================\n",
            "Total params: 1,952,275\n",
            "Trainable params: 1,952,275\n",
            "Non-trainable params: 0\n",
            "_________________________________________________________________\n"
          ],
          "name": "stdout"
        }
      ]
    },
    {
      "cell_type": "markdown",
      "metadata": {
        "id": "oPCf-Xv4NMRx"
      },
      "source": [
        "We train the model with our dataset and stop after only 4 epochs as the validation loss does not appear to decrease anymore."
      ]
    },
    {
      "cell_type": "code",
      "metadata": {
        "scrolled": true,
        "id": "MnF6Qx2GnH3O",
        "colab": {
          "base_uri": "https://localhost:8080/"
        },
        "outputId": "77bc522e-ec47-4b2c-a2a3-f2fafb910d0a"
      },
      "source": [
        "# Set a callback, to stop the training when the validation loss does not decrease anymore\n",
        "callback = tf.keras.callbacks.EarlyStopping(monitor='val_loss', patience=5)\n",
        "\n",
        "# Train the model\n",
        "history = model.fit(padded_names, normalized_values,\n",
        "                    epochs=150,\n",
        "                    batch_size=2048,\n",
        "                    callbacks=[callback],\n",
        "                    validation_split=0.1)"
      ],
      "execution_count": null,
      "outputs": [
        {
          "output_type": "stream",
          "text": [
            "Epoch 1/150\n",
            "7/7 [==============================] - 5s 152ms/step - loss: 0.0797 - mae: 0.2419 - acc: 0.4187 - val_loss: 0.0697 - val_mae: 0.2275 - val_acc: 0.5445\n",
            "Epoch 2/150\n",
            "7/7 [==============================] - 1s 77ms/step - loss: 0.0715 - mae: 0.2290 - acc: 0.4900 - val_loss: 0.0649 - val_mae: 0.2190 - val_acc: 0.5706\n",
            "Epoch 3/150\n",
            "7/7 [==============================] - 1s 81ms/step - loss: 0.0664 - mae: 0.2198 - acc: 0.5274 - val_loss: 0.0623 - val_mae: 0.2134 - val_acc: 0.5946\n",
            "Epoch 4/150\n",
            "7/7 [==============================] - 1s 77ms/step - loss: 0.0635 - mae: 0.2138 - acc: 0.5428 - val_loss: 0.0607 - val_mae: 0.2094 - val_acc: 0.6201\n",
            "Epoch 5/150\n",
            "7/7 [==============================] - 1s 75ms/step - loss: 0.0618 - mae: 0.2094 - acc: 0.5601 - val_loss: 0.0592 - val_mae: 0.2062 - val_acc: 0.6264\n",
            "Epoch 6/150\n",
            "7/7 [==============================] - 1s 82ms/step - loss: 0.0601 - mae: 0.2060 - acc: 0.5737 - val_loss: 0.0576 - val_mae: 0.2032 - val_acc: 0.6412\n",
            "Epoch 7/150\n",
            "7/7 [==============================] - 1s 78ms/step - loss: 0.0583 - mae: 0.2025 - acc: 0.5901 - val_loss: 0.0560 - val_mae: 0.2003 - val_acc: 0.6568\n",
            "Epoch 8/150\n",
            "7/7 [==============================] - 1s 84ms/step - loss: 0.0565 - mae: 0.1996 - acc: 0.6061 - val_loss: 0.0545 - val_mae: 0.1974 - val_acc: 0.6667\n",
            "Epoch 9/150\n",
            "7/7 [==============================] - 1s 77ms/step - loss: 0.0555 - mae: 0.1975 - acc: 0.6140 - val_loss: 0.0530 - val_mae: 0.1944 - val_acc: 0.6681\n",
            "Epoch 10/150\n",
            "7/7 [==============================] - 1s 81ms/step - loss: 0.0545 - mae: 0.1953 - acc: 0.6234 - val_loss: 0.0516 - val_mae: 0.1913 - val_acc: 0.6758\n",
            "Epoch 11/150\n",
            "7/7 [==============================] - 1s 80ms/step - loss: 0.0531 - mae: 0.1919 - acc: 0.6218 - val_loss: 0.0503 - val_mae: 0.1880 - val_acc: 0.6780\n",
            "Epoch 12/150\n",
            "7/7 [==============================] - 1s 78ms/step - loss: 0.0512 - mae: 0.1878 - acc: 0.6316 - val_loss: 0.0490 - val_mae: 0.1847 - val_acc: 0.6794\n",
            "Epoch 13/150\n",
            "7/7 [==============================] - 1s 78ms/step - loss: 0.0508 - mae: 0.1868 - acc: 0.6422 - val_loss: 0.0478 - val_mae: 0.1814 - val_acc: 0.6822\n",
            "Epoch 14/150\n",
            "7/7 [==============================] - 1s 77ms/step - loss: 0.0495 - mae: 0.1830 - acc: 0.6257 - val_loss: 0.0468 - val_mae: 0.1783 - val_acc: 0.6857\n",
            "Epoch 15/150\n",
            "7/7 [==============================] - 1s 75ms/step - loss: 0.0479 - mae: 0.1791 - acc: 0.6332 - val_loss: 0.0457 - val_mae: 0.1754 - val_acc: 0.6879\n",
            "Epoch 16/150\n",
            "7/7 [==============================] - 1s 78ms/step - loss: 0.0467 - mae: 0.1762 - acc: 0.6386 - val_loss: 0.0449 - val_mae: 0.1727 - val_acc: 0.6850\n",
            "Epoch 17/150\n",
            "7/7 [==============================] - 1s 78ms/step - loss: 0.0458 - mae: 0.1738 - acc: 0.6440 - val_loss: 0.0442 - val_mae: 0.1703 - val_acc: 0.6871\n",
            "Epoch 18/150\n",
            "7/7 [==============================] - 1s 80ms/step - loss: 0.0457 - mae: 0.1728 - acc: 0.6470 - val_loss: 0.0435 - val_mae: 0.1683 - val_acc: 0.6886\n",
            "Epoch 19/150\n",
            "7/7 [==============================] - 1s 84ms/step - loss: 0.0443 - mae: 0.1702 - acc: 0.6423 - val_loss: 0.0428 - val_mae: 0.1664 - val_acc: 0.6935\n",
            "Epoch 20/150\n",
            "7/7 [==============================] - 1s 72ms/step - loss: 0.0439 - mae: 0.1682 - acc: 0.6456 - val_loss: 0.0424 - val_mae: 0.1649 - val_acc: 0.6935\n",
            "Epoch 21/150\n",
            "7/7 [==============================] - 1s 78ms/step - loss: 0.0434 - mae: 0.1672 - acc: 0.6457 - val_loss: 0.0420 - val_mae: 0.1636 - val_acc: 0.6956\n",
            "Epoch 22/150\n",
            "7/7 [==============================] - 1s 78ms/step - loss: 0.0421 - mae: 0.1642 - acc: 0.6523 - val_loss: 0.0416 - val_mae: 0.1623 - val_acc: 0.6949\n",
            "Epoch 23/150\n",
            "7/7 [==============================] - 1s 73ms/step - loss: 0.0417 - mae: 0.1636 - acc: 0.6450 - val_loss: 0.0413 - val_mae: 0.1613 - val_acc: 0.6970\n",
            "Epoch 24/150\n",
            "7/7 [==============================] - 1s 77ms/step - loss: 0.0417 - mae: 0.1622 - acc: 0.6490 - val_loss: 0.0412 - val_mae: 0.1605 - val_acc: 0.6984\n",
            "Epoch 25/150\n",
            "7/7 [==============================] - 1s 84ms/step - loss: 0.0417 - mae: 0.1622 - acc: 0.6534 - val_loss: 0.0408 - val_mae: 0.1597 - val_acc: 0.6992\n",
            "Epoch 26/150\n",
            "7/7 [==============================] - 1s 83ms/step - loss: 0.0412 - mae: 0.1614 - acc: 0.6528 - val_loss: 0.0405 - val_mae: 0.1589 - val_acc: 0.7006\n",
            "Epoch 27/150\n",
            "7/7 [==============================] - 1s 77ms/step - loss: 0.0404 - mae: 0.1600 - acc: 0.6553 - val_loss: 0.0404 - val_mae: 0.1584 - val_acc: 0.7013\n",
            "Epoch 28/150\n",
            "7/7 [==============================] - 1s 77ms/step - loss: 0.0399 - mae: 0.1579 - acc: 0.6501 - val_loss: 0.0403 - val_mae: 0.1579 - val_acc: 0.7048\n",
            "Epoch 29/150\n",
            "7/7 [==============================] - 1s 80ms/step - loss: 0.0401 - mae: 0.1589 - acc: 0.6544 - val_loss: 0.0399 - val_mae: 0.1573 - val_acc: 0.7027\n",
            "Epoch 30/150\n",
            "7/7 [==============================] - 1s 76ms/step - loss: 0.0397 - mae: 0.1576 - acc: 0.6629 - val_loss: 0.0398 - val_mae: 0.1568 - val_acc: 0.7020\n",
            "Epoch 31/150\n",
            "7/7 [==============================] - 1s 80ms/step - loss: 0.0391 - mae: 0.1564 - acc: 0.6617 - val_loss: 0.0397 - val_mae: 0.1565 - val_acc: 0.7027\n",
            "Epoch 32/150\n",
            "7/7 [==============================] - 1s 80ms/step - loss: 0.0388 - mae: 0.1556 - acc: 0.6599 - val_loss: 0.0396 - val_mae: 0.1561 - val_acc: 0.7020\n",
            "Epoch 33/150\n",
            "7/7 [==============================] - 1s 77ms/step - loss: 0.0391 - mae: 0.1560 - acc: 0.6596 - val_loss: 0.0394 - val_mae: 0.1556 - val_acc: 0.7062\n",
            "Epoch 34/150\n",
            "7/7 [==============================] - 1s 80ms/step - loss: 0.0383 - mae: 0.1538 - acc: 0.6631 - val_loss: 0.0391 - val_mae: 0.1552 - val_acc: 0.7041\n",
            "Epoch 35/150\n",
            "7/7 [==============================] - 1s 77ms/step - loss: 0.0388 - mae: 0.1555 - acc: 0.6636 - val_loss: 0.0391 - val_mae: 0.1549 - val_acc: 0.7034\n",
            "Epoch 36/150\n",
            "7/7 [==============================] - 1s 81ms/step - loss: 0.0380 - mae: 0.1535 - acc: 0.6638 - val_loss: 0.0391 - val_mae: 0.1548 - val_acc: 0.7020\n",
            "Epoch 37/150\n",
            "7/7 [==============================] - 1s 99ms/step - loss: 0.0383 - mae: 0.1538 - acc: 0.6559 - val_loss: 0.0389 - val_mae: 0.1543 - val_acc: 0.7020\n",
            "Epoch 38/150\n",
            "7/7 [==============================] - 1s 79ms/step - loss: 0.0376 - mae: 0.1526 - acc: 0.6646 - val_loss: 0.0388 - val_mae: 0.1540 - val_acc: 0.7048\n",
            "Epoch 39/150\n",
            "7/7 [==============================] - 1s 76ms/step - loss: 0.0379 - mae: 0.1533 - acc: 0.6670 - val_loss: 0.0388 - val_mae: 0.1538 - val_acc: 0.7055\n",
            "Epoch 40/150\n",
            "7/7 [==============================] - 1s 74ms/step - loss: 0.0377 - mae: 0.1526 - acc: 0.6688 - val_loss: 0.0386 - val_mae: 0.1535 - val_acc: 0.7020\n",
            "Epoch 41/150\n",
            "7/7 [==============================] - 1s 81ms/step - loss: 0.0374 - mae: 0.1518 - acc: 0.6658 - val_loss: 0.0385 - val_mae: 0.1533 - val_acc: 0.7048\n",
            "Epoch 42/150\n",
            "7/7 [==============================] - 1s 78ms/step - loss: 0.0372 - mae: 0.1516 - acc: 0.6616 - val_loss: 0.0386 - val_mae: 0.1532 - val_acc: 0.7062\n",
            "Epoch 43/150\n",
            "7/7 [==============================] - 1s 83ms/step - loss: 0.0369 - mae: 0.1505 - acc: 0.6653 - val_loss: 0.0386 - val_mae: 0.1531 - val_acc: 0.7048\n",
            "Epoch 44/150\n",
            "7/7 [==============================] - 1s 73ms/step - loss: 0.0372 - mae: 0.1512 - acc: 0.6700 - val_loss: 0.0384 - val_mae: 0.1527 - val_acc: 0.7055\n",
            "Epoch 45/150\n",
            "7/7 [==============================] - 1s 79ms/step - loss: 0.0365 - mae: 0.1500 - acc: 0.6776 - val_loss: 0.0383 - val_mae: 0.1525 - val_acc: 0.7034\n",
            "Epoch 46/150\n",
            "7/7 [==============================] - 1s 77ms/step - loss: 0.0359 - mae: 0.1483 - acc: 0.6703 - val_loss: 0.0382 - val_mae: 0.1523 - val_acc: 0.7034\n",
            "Epoch 47/150\n",
            "7/7 [==============================] - 1s 77ms/step - loss: 0.0360 - mae: 0.1489 - acc: 0.6742 - val_loss: 0.0382 - val_mae: 0.1521 - val_acc: 0.7076\n",
            "Epoch 48/150\n",
            "7/7 [==============================] - 1s 82ms/step - loss: 0.0361 - mae: 0.1485 - acc: 0.6692 - val_loss: 0.0381 - val_mae: 0.1519 - val_acc: 0.7097\n",
            "Epoch 49/150\n",
            "7/7 [==============================] - 1s 84ms/step - loss: 0.0361 - mae: 0.1486 - acc: 0.6672 - val_loss: 0.0381 - val_mae: 0.1517 - val_acc: 0.7105\n",
            "Epoch 50/150\n",
            "7/7 [==============================] - 1s 77ms/step - loss: 0.0359 - mae: 0.1480 - acc: 0.6750 - val_loss: 0.0380 - val_mae: 0.1515 - val_acc: 0.7126\n",
            "Epoch 51/150\n",
            "7/7 [==============================] - 1s 78ms/step - loss: 0.0360 - mae: 0.1485 - acc: 0.6718 - val_loss: 0.0379 - val_mae: 0.1513 - val_acc: 0.7062\n",
            "Epoch 52/150\n",
            "7/7 [==============================] - 1s 77ms/step - loss: 0.0354 - mae: 0.1470 - acc: 0.6781 - val_loss: 0.0379 - val_mae: 0.1513 - val_acc: 0.7055\n",
            "Epoch 53/150\n",
            "7/7 [==============================] - 1s 73ms/step - loss: 0.0351 - mae: 0.1462 - acc: 0.6654 - val_loss: 0.0378 - val_mae: 0.1511 - val_acc: 0.7105\n",
            "Epoch 54/150\n",
            "7/7 [==============================] - 1s 76ms/step - loss: 0.0356 - mae: 0.1472 - acc: 0.6858 - val_loss: 0.0377 - val_mae: 0.1509 - val_acc: 0.7119\n",
            "Epoch 55/150\n",
            "7/7 [==============================] - 1s 76ms/step - loss: 0.0352 - mae: 0.1464 - acc: 0.6818 - val_loss: 0.0378 - val_mae: 0.1510 - val_acc: 0.7105\n",
            "Epoch 56/150\n",
            "7/7 [==============================] - 1s 81ms/step - loss: 0.0350 - mae: 0.1461 - acc: 0.6764 - val_loss: 0.0377 - val_mae: 0.1507 - val_acc: 0.7112\n",
            "Epoch 57/150\n",
            "7/7 [==============================] - 1s 78ms/step - loss: 0.0345 - mae: 0.1449 - acc: 0.6843 - val_loss: 0.0375 - val_mae: 0.1504 - val_acc: 0.7105\n",
            "Epoch 58/150\n",
            "7/7 [==============================] - 1s 80ms/step - loss: 0.0345 - mae: 0.1452 - acc: 0.6782 - val_loss: 0.0375 - val_mae: 0.1504 - val_acc: 0.7119\n",
            "Epoch 59/150\n",
            "7/7 [==============================] - 1s 79ms/step - loss: 0.0351 - mae: 0.1457 - acc: 0.6798 - val_loss: 0.0375 - val_mae: 0.1503 - val_acc: 0.7112\n",
            "Epoch 60/150\n",
            "7/7 [==============================] - 1s 77ms/step - loss: 0.0345 - mae: 0.1448 - acc: 0.6860 - val_loss: 0.0374 - val_mae: 0.1501 - val_acc: 0.7140\n",
            "Epoch 61/150\n",
            "7/7 [==============================] - 1s 80ms/step - loss: 0.0343 - mae: 0.1450 - acc: 0.6834 - val_loss: 0.0375 - val_mae: 0.1501 - val_acc: 0.7140\n",
            "Epoch 62/150\n",
            "7/7 [==============================] - 1s 77ms/step - loss: 0.0345 - mae: 0.1445 - acc: 0.6790 - val_loss: 0.0374 - val_mae: 0.1499 - val_acc: 0.7147\n",
            "Epoch 63/150\n",
            "7/7 [==============================] - 1s 75ms/step - loss: 0.0337 - mae: 0.1427 - acc: 0.6858 - val_loss: 0.0373 - val_mae: 0.1498 - val_acc: 0.7168\n",
            "Epoch 64/150\n",
            "7/7 [==============================] - 1s 79ms/step - loss: 0.0341 - mae: 0.1439 - acc: 0.6752 - val_loss: 0.0373 - val_mae: 0.1496 - val_acc: 0.7182\n",
            "Epoch 65/150\n",
            "7/7 [==============================] - 1s 80ms/step - loss: 0.0336 - mae: 0.1424 - acc: 0.6909 - val_loss: 0.0373 - val_mae: 0.1495 - val_acc: 0.7168\n",
            "Epoch 66/150\n",
            "7/7 [==============================] - 1s 84ms/step - loss: 0.0334 - mae: 0.1421 - acc: 0.6823 - val_loss: 0.0372 - val_mae: 0.1493 - val_acc: 0.7196\n",
            "Epoch 67/150\n",
            "7/7 [==============================] - 1s 78ms/step - loss: 0.0335 - mae: 0.1422 - acc: 0.6844 - val_loss: 0.0372 - val_mae: 0.1493 - val_acc: 0.7196\n",
            "Epoch 68/150\n",
            "7/7 [==============================] - 1s 76ms/step - loss: 0.0334 - mae: 0.1419 - acc: 0.6860 - val_loss: 0.0371 - val_mae: 0.1491 - val_acc: 0.7210\n",
            "Epoch 69/150\n",
            "7/7 [==============================] - 1s 76ms/step - loss: 0.0331 - mae: 0.1419 - acc: 0.6849 - val_loss: 0.0371 - val_mae: 0.1490 - val_acc: 0.7196\n",
            "Epoch 70/150\n",
            "7/7 [==============================] - 1s 76ms/step - loss: 0.0333 - mae: 0.1415 - acc: 0.6825 - val_loss: 0.0371 - val_mae: 0.1489 - val_acc: 0.7225\n",
            "Epoch 71/150\n",
            "7/7 [==============================] - 1s 76ms/step - loss: 0.0328 - mae: 0.1405 - acc: 0.6873 - val_loss: 0.0370 - val_mae: 0.1488 - val_acc: 0.7232\n",
            "Epoch 72/150\n",
            "7/7 [==============================] - 1s 81ms/step - loss: 0.0326 - mae: 0.1404 - acc: 0.6853 - val_loss: 0.0369 - val_mae: 0.1487 - val_acc: 0.7232\n",
            "Epoch 73/150\n",
            "7/7 [==============================] - 1s 79ms/step - loss: 0.0327 - mae: 0.1404 - acc: 0.6864 - val_loss: 0.0369 - val_mae: 0.1486 - val_acc: 0.7239\n",
            "Epoch 74/150\n",
            "7/7 [==============================] - 1s 78ms/step - loss: 0.0326 - mae: 0.1400 - acc: 0.6900 - val_loss: 0.0369 - val_mae: 0.1485 - val_acc: 0.7246\n",
            "Epoch 75/150\n",
            "7/7 [==============================] - 1s 79ms/step - loss: 0.0323 - mae: 0.1393 - acc: 0.6935 - val_loss: 0.0368 - val_mae: 0.1484 - val_acc: 0.7246\n",
            "Epoch 76/150\n",
            "7/7 [==============================] - 1s 78ms/step - loss: 0.0325 - mae: 0.1400 - acc: 0.6984 - val_loss: 0.0368 - val_mae: 0.1483 - val_acc: 0.7239\n",
            "Epoch 77/150\n",
            "7/7 [==============================] - 1s 80ms/step - loss: 0.0321 - mae: 0.1390 - acc: 0.6936 - val_loss: 0.0369 - val_mae: 0.1484 - val_acc: 0.7253\n",
            "Epoch 78/150\n",
            "7/7 [==============================] - 1s 78ms/step - loss: 0.0319 - mae: 0.1387 - acc: 0.6903 - val_loss: 0.0368 - val_mae: 0.1482 - val_acc: 0.7232\n",
            "Epoch 79/150\n",
            "7/7 [==============================] - 1s 77ms/step - loss: 0.0319 - mae: 0.1390 - acc: 0.6930 - val_loss: 0.0368 - val_mae: 0.1481 - val_acc: 0.7232\n",
            "Epoch 80/150\n",
            "7/7 [==============================] - 1s 77ms/step - loss: 0.0318 - mae: 0.1381 - acc: 0.6899 - val_loss: 0.0367 - val_mae: 0.1480 - val_acc: 0.7239\n",
            "Epoch 81/150\n",
            "7/7 [==============================] - 1s 78ms/step - loss: 0.0320 - mae: 0.1383 - acc: 0.6897 - val_loss: 0.0367 - val_mae: 0.1480 - val_acc: 0.7253\n",
            "Epoch 82/150\n",
            "7/7 [==============================] - 1s 87ms/step - loss: 0.0321 - mae: 0.1391 - acc: 0.6884 - val_loss: 0.0366 - val_mae: 0.1479 - val_acc: 0.7260\n",
            "Epoch 83/150\n",
            "7/7 [==============================] - 1s 81ms/step - loss: 0.0317 - mae: 0.1381 - acc: 0.6918 - val_loss: 0.0367 - val_mae: 0.1479 - val_acc: 0.7309\n",
            "Epoch 84/150\n",
            "7/7 [==============================] - 1s 80ms/step - loss: 0.0321 - mae: 0.1387 - acc: 0.6941 - val_loss: 0.0367 - val_mae: 0.1478 - val_acc: 0.7309\n",
            "Epoch 85/150\n",
            "7/7 [==============================] - 1s 80ms/step - loss: 0.0317 - mae: 0.1374 - acc: 0.6952 - val_loss: 0.0366 - val_mae: 0.1477 - val_acc: 0.7295\n",
            "Epoch 86/150\n",
            "7/7 [==============================] - 1s 80ms/step - loss: 0.0316 - mae: 0.1379 - acc: 0.6974 - val_loss: 0.0366 - val_mae: 0.1476 - val_acc: 0.7288\n",
            "Epoch 87/150\n",
            "7/7 [==============================] - 1s 78ms/step - loss: 0.0314 - mae: 0.1368 - acc: 0.6981 - val_loss: 0.0366 - val_mae: 0.1476 - val_acc: 0.7302\n",
            "Epoch 88/150\n",
            "7/7 [==============================] - 1s 80ms/step - loss: 0.0305 - mae: 0.1351 - acc: 0.6923 - val_loss: 0.0366 - val_mae: 0.1475 - val_acc: 0.7316\n",
            "Epoch 89/150\n",
            "7/7 [==============================] - 1s 81ms/step - loss: 0.0313 - mae: 0.1369 - acc: 0.6941 - val_loss: 0.0365 - val_mae: 0.1474 - val_acc: 0.7302\n",
            "Epoch 90/150\n",
            "7/7 [==============================] - 1s 76ms/step - loss: 0.0313 - mae: 0.1371 - acc: 0.6987 - val_loss: 0.0366 - val_mae: 0.1474 - val_acc: 0.7302\n",
            "Epoch 91/150\n",
            "7/7 [==============================] - 1s 77ms/step - loss: 0.0309 - mae: 0.1360 - acc: 0.6923 - val_loss: 0.0365 - val_mae: 0.1474 - val_acc: 0.7309\n",
            "Epoch 92/150\n",
            "7/7 [==============================] - 1s 77ms/step - loss: 0.0309 - mae: 0.1365 - acc: 0.6998 - val_loss: 0.0365 - val_mae: 0.1474 - val_acc: 0.7323\n",
            "Epoch 93/150\n",
            "7/7 [==============================] - 1s 78ms/step - loss: 0.0308 - mae: 0.1356 - acc: 0.6979 - val_loss: 0.0365 - val_mae: 0.1473 - val_acc: 0.7309\n",
            "Epoch 94/150\n",
            "7/7 [==============================] - 1s 80ms/step - loss: 0.0307 - mae: 0.1349 - acc: 0.7002 - val_loss: 0.0365 - val_mae: 0.1473 - val_acc: 0.7331\n",
            "Epoch 95/150\n",
            "7/7 [==============================] - 1s 77ms/step - loss: 0.0306 - mae: 0.1351 - acc: 0.7010 - val_loss: 0.0364 - val_mae: 0.1472 - val_acc: 0.7331\n",
            "Epoch 96/150\n",
            "7/7 [==============================] - 1s 78ms/step - loss: 0.0304 - mae: 0.1353 - acc: 0.6953 - val_loss: 0.0366 - val_mae: 0.1472 - val_acc: 0.7331\n",
            "Epoch 97/150\n",
            "7/7 [==============================] - 1s 77ms/step - loss: 0.0305 - mae: 0.1348 - acc: 0.6982 - val_loss: 0.0365 - val_mae: 0.1472 - val_acc: 0.7338\n",
            "Epoch 98/150\n",
            "7/7 [==============================] - 1s 75ms/step - loss: 0.0304 - mae: 0.1345 - acc: 0.7009 - val_loss: 0.0365 - val_mae: 0.1471 - val_acc: 0.7338\n",
            "Epoch 99/150\n",
            "7/7 [==============================] - 1s 81ms/step - loss: 0.0301 - mae: 0.1342 - acc: 0.6923 - val_loss: 0.0365 - val_mae: 0.1472 - val_acc: 0.7331\n",
            "Epoch 100/150\n",
            "7/7 [==============================] - 1s 77ms/step - loss: 0.0303 - mae: 0.1339 - acc: 0.6979 - val_loss: 0.0365 - val_mae: 0.1471 - val_acc: 0.7345\n"
          ],
          "name": "stdout"
        }
      ]
    },
    {
      "cell_type": "code",
      "metadata": {
        "id": "bc1QS94dnH3O",
        "colab": {
          "base_uri": "https://localhost:8080/",
          "height": 545
        },
        "outputId": "c2e17d10-b61d-4a0d-82e9-5541c163a183"
      },
      "source": [
        "# Plot the mean squared error and mean absolute error \n",
        "# in training and validation samples across epochs\n",
        "import matplotlib.pyplot as plt\n",
        "\n",
        "acc = history.history['acc']\n",
        "val_acc = history.history['val_acc']\n",
        "loss = history.history['loss']\n",
        "val_loss = history.history['val_loss']\n",
        "\n",
        "epochs = range(len(acc))\n",
        "\n",
        "plt.plot(epochs, acc, 'bo', label='Training accuracy')\n",
        "plt.plot(epochs, val_acc, 'b', label='Validation accuracy')\n",
        "plt.title('Training and validation accuracy')\n",
        "plt.legend()\n",
        "\n",
        "plt.figure()\n",
        "\n",
        "plt.plot(epochs, loss, 'bo', label='Training loss')\n",
        "plt.plot(epochs, val_loss, 'b', label='Validation loss')\n",
        "plt.title('Training and validation loss')\n",
        "plt.legend()\n",
        "\n",
        "plt.show()\n"
      ],
      "execution_count": null,
      "outputs": [
        {
          "output_type": "display_data",
          "data": {
            "image/png": "[encoded data removed]",
            "text/plain": [
              "<Figure size 432x288 with 1 Axes>"
            ]
          },
          "metadata": {
            "tags": [],
            "needs_background": "light"
          }
        },
        {
          "output_type": "display_data",
          "data": {
            "image/png": "[encoded data removed]",
            "text/plain": [
              "<Figure size 432x288 with 1 Axes>"
            ]
          },
          "metadata": {
            "tags": [],
            "needs_background": "light"
          }
        }
      ]
    },
    {
      "cell_type": "markdown",
      "metadata": {
        "id": "5OIpcO0XKvk-"
      },
      "source": [
        "### Results on test names"
      ]
    },
    {
      "cell_type": "markdown",
      "metadata": {
        "id": "8p9vLVgVNSRe"
      },
      "source": [
        "Now we are ready to predict color of a random name:"
      ]
    },
    {
      "cell_type": "code",
      "metadata": {
        "id": "4CIIehOknH3O"
      },
      "source": [
        "# Plot a color image.\n",
        "def plot_rgb(rgb):\n",
        "    data = [[rgb]]\n",
        "    plt.figure(figsize=(2,2))\n",
        "    plt.imshow(data, interpolation='nearest')\n",
        "    plt.show()\n",
        "\n",
        "# Scale back network output to RGB values \n",
        "def scale(n):\n",
        "    return int(n * 255) \n",
        "\n",
        "# Predict the RGB vector from the name\n",
        "def predict(name):\n",
        "    name = name.lower()\n",
        "    tokenized = t.texts_to_sequences([name])\n",
        "    padded = preprocessing.sequence.pad_sequences(tokenized, maxlen=maxlen)\n",
        "    #one_hot = np_utils.to_categorical(padded, num_classes=num_classes)\n",
        "    pred = model.predict(padded)[0]\n",
        "    r, g, b = scale(pred[0]), scale(pred[1]), scale(pred[2])\n",
        "    print(name + ',', 'R,G,B:', r,g,b)\n",
        "    plot_rgb(pred)"
      ],
      "execution_count": null,
      "outputs": []
    },
    {
      "cell_type": "markdown",
      "metadata": {
        "id": "4C4Pz-KbFhtK"
      },
      "source": [
        "We see our network can correctly predict the colour from names of colours without nuances."
      ]
    },
    {
      "cell_type": "code",
      "metadata": {
        "id": "FRmvxzb2nH3O",
        "colab": {
          "base_uri": "https://localhost:8080/",
          "height": 334
        },
        "outputId": "3f4619aa-b04c-457e-e7b3-f6d20c3bfa11"
      },
      "source": [
        "predict(\"black\")\n",
        "predict(\"white\")"
      ],
      "execution_count": null,
      "outputs": [
        {
          "output_type": "stream",
          "text": [
            "black, R,G,B: 60 57 60\n"
          ],
          "name": "stdout"
        },
        {
          "output_type": "display_data",
          "data": {
            "image/png": "[encoded data removed]",
            "text/plain": [
              "<Figure size 144x144 with 1 Axes>"
            ]
          },
          "metadata": {
            "tags": [],
            "needs_background": "light"
          }
        },
        {
          "output_type": "stream",
          "text": [
            "white, R,G,B: 241 236 225\n"
          ],
          "name": "stdout"
        },
        {
          "output_type": "display_data",
          "data": {
            "image/png": "[encoded data removed]",
            "text/plain": [
              "<Figure size 144x144 with 1 Axes>"
            ]
          },
          "metadata": {
            "tags": [],
            "needs_background": "light"
          }
        }
      ]
    },
    {
      "cell_type": "markdown",
      "metadata": {
        "id": "4COdrEm8FxDo"
      },
      "source": [
        "It can also correctly predict lighter and darker nuances of a color."
      ]
    },
    {
      "cell_type": "code",
      "metadata": {
        "id": "AQBsvxnJnH3O",
        "colab": {
          "base_uri": "https://localhost:8080/",
          "height": 493
        },
        "outputId": "0924e9d0-9a1a-42c3-9477-307ad2221ab9"
      },
      "source": [
        "predict(\"light blue\")\n",
        "predict(\"blue\")\n",
        "predict(\"dark blue\")"
      ],
      "execution_count": null,
      "outputs": [
        {
          "output_type": "stream",
          "text": [
            "light blue, R,G,B: 174 211 221\n"
          ],
          "name": "stdout"
        },
        {
          "output_type": "display_data",
          "data": {
            "image/png": "[encoded data removed]",
            "text/plain": [
              "<Figure size 144x144 with 1 Axes>"
            ]
          },
          "metadata": {
            "tags": [],
            "needs_background": "light"
          }
        },
        {
          "output_type": "stream",
          "text": [
            "blue, R,G,B: 91 143 182\n"
          ],
          "name": "stdout"
        },
        {
          "output_type": "display_data",
          "data": {
            "image/png": "[encoded data removed]",
            "text/plain": [
              "<Figure size 144x144 with 1 Axes>"
            ]
          },
          "metadata": {
            "tags": [],
            "needs_background": "light"
          }
        },
        {
          "output_type": "stream",
          "text": [
            "dark blue, R,G,B: 40 68 112\n"
          ],
          "name": "stdout"
        },
        {
          "output_type": "display_data",
          "data": {
            "image/png": "[encoded data removed]",
            "text/plain": [
              "<Figure size 144x144 with 1 Axes>"
            ]
          },
          "metadata": {
            "tags": [],
            "needs_background": "light"
          }
        }
      ]
    },
    {
      "cell_type": "markdown",
      "metadata": {
        "id": "UUZEUeMtGAHj"
      },
      "source": [
        "It can also correctly predict colors from objects which have characteristics colors such \"brick\", \"ocean\" and \"egg\"."
      ]
    },
    {
      "cell_type": "code",
      "metadata": {
        "id": "4wEvBmf9nH3P",
        "colab": {
          "base_uri": "https://localhost:8080/",
          "height": 493
        },
        "outputId": "d4d5e54c-8b09-46a5-9f96-102afe383e32"
      },
      "source": [
        "predict(\"brick\")\n",
        "predict(\"ocean\")\n",
        "predict(\"egg\")"
      ],
      "execution_count": null,
      "outputs": [
        {
          "output_type": "stream",
          "text": [
            "brick, R,G,B: 150 97 77\n"
          ],
          "name": "stdout"
        },
        {
          "output_type": "display_data",
          "data": {
            "image/png": "[encoded data removed]",
            "text/plain": [
              "<Figure size 144x144 with 1 Axes>"
            ]
          },
          "metadata": {
            "tags": [],
            "needs_background": "light"
          }
        },
        {
          "output_type": "stream",
          "text": [
            "ocean, R,G,B: 98 149 161\n"
          ],
          "name": "stdout"
        },
        {
          "output_type": "display_data",
          "data": {
            "image/png": "[encoded data removed]",
            "text/plain": [
              "<Figure size 144x144 with 1 Axes>"
            ]
          },
          "metadata": {
            "tags": [],
            "needs_background": "light"
          }
        },
        {
          "output_type": "stream",
          "text": [
            "egg, R,G,B: 229 216 178\n"
          ],
          "name": "stdout"
        },
        {
          "output_type": "display_data",
          "data": {
            "image/png": "[encoded data removed]",
            "text/plain": [
              "<Figure size 144x144 with 1 Axes>"
            ]
          },
          "metadata": {
            "tags": [],
            "needs_background": "light"
          }
        }
      ]
    },
    {
      "cell_type": "markdown",
      "metadata": {
        "id": "NU5VYtP2HYhX"
      },
      "source": [
        "Interestingly it can also correctly predict mix of colours with different intensities."
      ]
    },
    {
      "cell_type": "code",
      "metadata": {
        "colab": {
          "base_uri": "https://localhost:8080/",
          "height": 493
        },
        "id": "CYDCUSvjLR5Z",
        "outputId": "f2071d3a-cddc-44cc-a300-c2c69a6a7caf"
      },
      "source": [
        "predict(\"red yellow\")\r\n",
        "predict(\"red red yellow\")\r\n",
        "predict(\"yellow yellow red\")"
      ],
      "execution_count": null,
      "outputs": [
        {
          "output_type": "stream",
          "text": [
            "red yellow, R,G,B: 236 158 42\n"
          ],
          "name": "stdout"
        },
        {
          "output_type": "display_data",
          "data": {
            "image/png": "[encoded data removed]",
            "text/plain": [
              "<Figure size 144x144 with 1 Axes>"
            ]
          },
          "metadata": {
            "tags": [],
            "needs_background": "light"
          }
        },
        {
          "output_type": "stream",
          "text": [
            "red red yellow, R,G,B: 235 107 32\n"
          ],
          "name": "stdout"
        },
        {
          "output_type": "display_data",
          "data": {
            "image/png": "[encoded data removed]",
            "text/plain": [
              "<Figure size 144x144 with 1 Axes>"
            ]
          },
          "metadata": {
            "tags": [],
            "needs_background": "light"
          }
        },
        {
          "output_type": "stream",
          "text": [
            "yellow yellow red, R,G,B: 234 162 46\n"
          ],
          "name": "stdout"
        },
        {
          "output_type": "display_data",
          "data": {
            "image/png": "[encoded data removed]",
            "text/plain": [
              "<Figure size 144x144 with 1 Axes>"
            ]
          },
          "metadata": {
            "tags": [],
            "needs_background": "light"
          }
        }
      ]
    },
    {
      "cell_type": "markdown",
      "metadata": {
        "id": "FzL0JnSQJuJK"
      },
      "source": [
        "## Task 2: a neural network to get a word from a RGB color vector"
      ]
    },
    {
      "cell_type": "markdown",
      "metadata": {
        "id": "XKIkbAwfQaCb"
      },
      "source": [
        "Now we reverse the task. It becomes a one-to-many sequence problem, from one RGB vector to a set of word descriptors. Our approach consists in:\r\n",
        "\r\n",
        "*   working at word level,\r\n",
        "*   encoding the colour names with the GloVe embeddings and use the embedded names as target in training,\r\n",
        "*   using the RGB vectors repeated several ($n$) times to match the length of the padded word sequences composing the colour names,\r\n",
        "*   a stack of bidirectional LSTM layers of increasing sizes followed by a dense layer,\r\n",
        "*   using cosine similarity, a metric commonly used in NLP, as loss.\r\n",
        "\r\n",
        "Our network outputs $n$ vectors with dimension 300. To predict a colour name from a test RGB vector, for each of the $n$ output vectors, we find the closest vector in the embedding space in terms of cosine similarity and corresponding word.\r\n",
        "\r\n",
        "Several alternatives were tried but abandonned:\r\n",
        "\r\n",
        "*   reconstructing colour names with character level one-hot encoding,\r\n",
        "*   GRU layers instead of LSTM layers,\r\n",
        "*   implementing an one-dimesional convolution network,\r\n",
        "*   variations of the number of LSTM layers and their sizes and activation function of the dense layer.\r\n",
        "\r\n",
        "For the prediction of test RGB vectors, we have tried to find the closest vectors in different spaces. Those generated by \r\n",
        "*   the GloVe pre-trained embeddings matrix of different dimensions,\r\n",
        "*   the GloVe pre-trained embeddings matrix restricted to the words in our dataset, \r\n",
        "*   the GloVe embedding matrix restricted to the words in our dataset trained in Task 1.\r\n",
        "\r\n",
        "This problem is much harder than Task 1. We first tried using all the names in the dataset but we did not obtain good results. We find that the vast majority of color names in our dataset has a length inferior to two, so we use only this subset to ease the learning process. We show below a version of our pipeline and model for all colour names to show it can handle larger sequences too."
      ]
    },
    {
      "cell_type": "markdown",
      "metadata": {
        "id": "WDohX5z7-df9"
      },
      "source": [
        "### Pre-processing\r\n",
        "\r\n"
      ]
    },
    {
      "cell_type": "markdown",
      "metadata": {
        "id": "zGI2cJkfBkTd"
      },
      "source": [
        "We generate the subset of words of length 2."
      ]
    },
    {
      "cell_type": "code",
      "metadata": {
        "colab": {
          "base_uri": "https://localhost:8080/",
          "height": 354
        },
        "id": "B0uFvj3TRJLe",
        "outputId": "dd33c389-a10b-4166-864b-48bb757eae5a"
      },
      "source": [
        "# Subset data with color name of length 2\r\n",
        "colname_len_df = pandas.DataFrame(colname_len,columns =['len'])\r\n",
        "data_inf2 = data[colname_len_df['len']==2]\r\n",
        "\r\n",
        "names_inf2 = data_inf2[\"name\"].str.lower()\r\n",
        "\r\n",
        "print('Number of samples:',len(data_inf2))\r\n",
        "print('Is there any capitalized letter in colour names?', bool(sum([1-x.islower() for x in names_inf2.values])))\r\n",
        "\r\n",
        "colname_len_inf2 = [len(x) for x in names_inf2.str.split(\" \", n = -1).values]\r\n",
        "print('Max number of words in colour names:', max(colname_len_inf2))\r\n",
        "print('Dsitribution of the number of words in colour names:')\r\n",
        "\r\n",
        "# Plot the distribution of names length\r\n",
        "plt.hist(colname_len_inf2, align = 'left')\r\n",
        "plt.xlabel('# words')\r\n",
        "plt.ylabel('Frequency')\r\n",
        "plt.show()\r\n"
      ],
      "execution_count": null,
      "outputs": [
        {
          "output_type": "stream",
          "text": [
            "Number of samples: 10032\n",
            "Is there any capitalized letter in colour names? False\n",
            "Max number of words in colour names: 2\n",
            "Dsitribution of the number of words in colour names:\n"
          ],
          "name": "stdout"
        },
        {
          "output_type": "display_data",
          "data": {
            "image/png": "[encoded data removed]",
            "text/plain": [
              "<Figure size 432x288 with 1 Axes>"
            ]
          },
          "metadata": {
            "tags": [],
            "needs_background": "light"
          }
        }
      ]
    },
    {
      "cell_type": "markdown",
      "metadata": {
        "id": "vxKA1emMBvAa"
      },
      "source": [
        "We tokenize at word level, match the words in colour names to the pre-trained embeddings and obtain our embedding matrix."
      ]
    },
    {
      "cell_type": "code",
      "metadata": {
        "colab": {
          "base_uri": "https://localhost:8080/"
        },
        "id": "iug3AC39YrxR",
        "outputId": "e93141a4-48b6-4c3f-f3c9-e9aeeaaa2d65"
      },
      "source": [
        "# Fit the tokenizer and build the word index\r\n",
        "t_inf2 = Tokenizer(num_words=None)\r\n",
        "t_inf2.fit_on_texts(names_inf2)\r\n",
        "word_index_inf2 = t_inf2.word_index\r\n",
        "print('Found %s unique tokens.' % len(word_index_inf2))\r\n",
        "\r\n",
        "# Get the embedding matrix by \r\n",
        "# matching the words in colour names to the pre-trained embeddings\r\n",
        "\r\n",
        "words_in_data = []\r\n",
        "embedding_matrix_inf2 = np.zeros((len(word_index_inf2) + 1, 300))\r\n",
        "for word, i in word_index_inf2.items():\r\n",
        "    embedding_vector = embeddings_index.get(word)\r\n",
        "    words_in_data.append(word)    \r\n",
        "    if embedding_vector is not None:\r\n",
        "        # words not found in embedding index will be all-zeros.\r\n",
        "        embedding_matrix_inf2[i] = embedding_vector\r\n",
        "\r\n",
        "        \r\n",
        "\r\n",
        "np.savetxt('drive/MyDrive/dl_assignment_3/embedding_matrix_inf2.csv', embedding_matrix_inf2, delimiter=',')"
      ],
      "execution_count": null,
      "outputs": [
        {
          "output_type": "stream",
          "text": [
            "Found 4600 unique tokens.\n"
          ],
          "name": "stdout"
        }
      ]
    },
    {
      "cell_type": "markdown",
      "metadata": {
        "id": "3Qq3pNtWC2wD"
      },
      "source": [
        "We generate our training input by embedding our colour name sequences. "
      ]
    },
    {
      "cell_type": "code",
      "metadata": {
        "id": "f5pJDw17sZPz"
      },
      "source": [
        "# Generate the embedding layer\r\n",
        "embedding_layer = Embedding(len(word_index_inf2) + 1,\r\n",
        "                            300,\r\n",
        "                            weights=[embedding_matrix_inf2],\r\n",
        "                            input_length=2,\r\n",
        "                            trainable=False)\r\n",
        "\r\n",
        "# Convert the colour names to sequences and padd them to length 2\r\n",
        "tokenized_inf2 = t_inf2.texts_to_sequences(names_inf2)\r\n",
        "word_index_inf2 = t_inf2.word_index\r\n",
        "padded_names_inf2 = preprocessing.sequence.pad_sequences(tokenized_inf2, maxlen=2)\r\n",
        "\r\n",
        "embedded_seq = embedding_layer(padded_names_inf2)\r\n",
        "\r\n",
        "# Get the normalized RBG vectors\r\n",
        "normalized_values_inf2 = np.column_stack([norm(data_inf2[\"red\"]), norm(data_inf2[\"green\"]), norm(data_inf2[\"blue\"])])"
      ],
      "execution_count": null,
      "outputs": []
    },
    {
      "cell_type": "markdown",
      "metadata": {
        "id": "GVZPKKsLEXEo"
      },
      "source": [
        "### Model"
      ]
    },
    {
      "cell_type": "markdown",
      "metadata": {
        "id": "STwZL273F46r"
      },
      "source": [
        "Our model is composed of 3 bidirectional LSTM layers of increasing size, one LSTM layer, one dropout layer and one final dense layer. "
      ]
    },
    {
      "cell_type": "code",
      "metadata": {
        "colab": {
          "base_uri": "https://localhost:8080/"
        },
        "id": "ms5MfqH1qwRy",
        "outputId": "8e3412c9-d167-41ae-9ae4-7f8c47128eb9"
      },
      "source": [
        "model2 = Sequential()\r\n",
        "model2.add(RepeatVector(2, input_shape=(3,)))\r\n",
        "model2.add(Bidirectional(LSTM(32, return_sequences = True)))\r\n",
        "model2.add(Bidirectional(LSTM(64, return_sequences = True)))\r\n",
        "model2.add(Bidirectional(LSTM(128, return_sequences = True)))\r\n",
        "model2.add(LSTM(256, return_sequences = True))\r\n",
        "model2.add(Dropout(0.2))\r\n",
        "model2.add(TimeDistributed(Dense(300)))\r\n",
        "model2.compile(optimizer='adam', loss='cosine_similarity', metrics = ['mse','acc'])\r\n",
        "model2.summary()"
      ],
      "execution_count": null,
      "outputs": [
        {
          "output_type": "stream",
          "text": [
            "Model: \"sequential_33\"\n",
            "_________________________________________________________________\n",
            "Layer (type)                 Output Shape              Param #   \n",
            "=================================================================\n",
            "repeat_vector_4 (RepeatVecto (None, 2, 3)              0         \n",
            "_________________________________________________________________\n",
            "bidirectional_44 (Bidirectio (None, 2, 64)             9216      \n",
            "_________________________________________________________________\n",
            "bidirectional_45 (Bidirectio (None, 2, 128)            66048     \n",
            "_________________________________________________________________\n",
            "bidirectional_46 (Bidirectio (None, 2, 256)            263168    \n",
            "_________________________________________________________________\n",
            "lstm_51 (LSTM)               (None, 2, 256)            525312    \n",
            "_________________________________________________________________\n",
            "dropout_56 (Dropout)         (None, 2, 256)            0         \n",
            "_________________________________________________________________\n",
            "time_distributed_4 (TimeDist (None, 2, 300)            77100     \n",
            "=================================================================\n",
            "Total params: 940,844\n",
            "Trainable params: 940,844\n",
            "Non-trainable params: 0\n",
            "_________________________________________________________________\n"
          ],
          "name": "stdout"
        }
      ]
    },
    {
      "cell_type": "markdown",
      "metadata": {
        "id": "5FZCGK0rGYLS"
      },
      "source": [
        "Training of the model."
      ]
    },
    {
      "cell_type": "code",
      "metadata": {
        "colab": {
          "base_uri": "https://localhost:8080/"
        },
        "id": "otmVTVRqrPCc",
        "outputId": "308a0ad0-9ced-4807-8642-34326e2321cb"
      },
      "source": [
        "callback = tf.keras.callbacks.EarlyStopping(monitor='val_loss', patience=3)\r\n",
        "\r\n",
        "history = model2.fit(normalized_values_inf2,embedded_seq,\r\n",
        "                    epochs=100,\r\n",
        "                    batch_size=256,\r\n",
        "                    #callbacks=[callback],\r\n",
        "                    validation_split=0.1)"
      ],
      "execution_count": null,
      "outputs": [
        {
          "output_type": "stream",
          "text": [
            "Epoch 1/100\n",
            "36/36 [==============================] - 17s 112ms/step - loss: -0.3939 - mse: 0.1628 - acc: 0.1084 - val_loss: -0.5184 - val_mse: 0.1607 - val_acc: 0.1519\n",
            "Epoch 2/100\n",
            "36/36 [==============================] - 3s 80ms/step - loss: -0.5040 - mse: 0.1612 - acc: 0.1469 - val_loss: -0.5236 - val_mse: 0.1613 - val_acc: 0.1519\n",
            "Epoch 3/100\n",
            "36/36 [==============================] - 3s 80ms/step - loss: -0.5121 - mse: 0.1619 - acc: 0.1467 - val_loss: -0.5268 - val_mse: 0.1617 - val_acc: 0.1663\n",
            "Epoch 4/100\n",
            "36/36 [==============================] - 3s 79ms/step - loss: -0.5172 - mse: 0.1619 - acc: 0.1584 - val_loss: -0.5281 - val_mse: 0.1618 - val_acc: 0.1648\n",
            "Epoch 5/100\n",
            "36/36 [==============================] - 3s 79ms/step - loss: -0.5188 - mse: 0.1620 - acc: 0.1567 - val_loss: -0.5285 - val_mse: 0.1618 - val_acc: 0.1673\n",
            "Epoch 6/100\n",
            "36/36 [==============================] - 3s 80ms/step - loss: -0.5223 - mse: 0.1627 - acc: 0.1620 - val_loss: -0.5283 - val_mse: 0.1619 - val_acc: 0.1663\n",
            "Epoch 7/100\n",
            "36/36 [==============================] - 3s 80ms/step - loss: -0.5225 - mse: 0.1624 - acc: 0.1603 - val_loss: -0.5286 - val_mse: 0.1619 - val_acc: 0.1673\n",
            "Epoch 8/100\n",
            "36/36 [==============================] - 3s 82ms/step - loss: -0.5221 - mse: 0.1624 - acc: 0.1568 - val_loss: -0.5294 - val_mse: 0.1619 - val_acc: 0.1638\n",
            "Epoch 9/100\n",
            "36/36 [==============================] - 3s 79ms/step - loss: -0.5235 - mse: 0.1625 - acc: 0.1581 - val_loss: -0.5288 - val_mse: 0.1620 - val_acc: 0.1663\n",
            "Epoch 10/100\n",
            "36/36 [==============================] - 3s 79ms/step - loss: -0.5244 - mse: 0.1621 - acc: 0.1624 - val_loss: -0.5290 - val_mse: 0.1619 - val_acc: 0.1658\n",
            "Epoch 11/100\n",
            "36/36 [==============================] - 3s 80ms/step - loss: -0.5254 - mse: 0.1624 - acc: 0.1609 - val_loss: -0.5294 - val_mse: 0.1619 - val_acc: 0.1668\n",
            "Epoch 12/100\n",
            "36/36 [==============================] - 3s 77ms/step - loss: -0.5257 - mse: 0.1625 - acc: 0.1642 - val_loss: -0.5301 - val_mse: 0.1619 - val_acc: 0.1658\n",
            "Epoch 13/100\n",
            "36/36 [==============================] - 3s 78ms/step - loss: -0.5270 - mse: 0.1624 - acc: 0.1636 - val_loss: -0.5319 - val_mse: 0.1617 - val_acc: 0.1693\n",
            "Epoch 14/100\n",
            "36/36 [==============================] - 3s 78ms/step - loss: -0.5270 - mse: 0.1621 - acc: 0.1678 - val_loss: -0.5326 - val_mse: 0.1617 - val_acc: 0.1668\n",
            "Epoch 15/100\n",
            "36/36 [==============================] - 3s 76ms/step - loss: -0.5286 - mse: 0.1618 - acc: 0.1657 - val_loss: -0.5341 - val_mse: 0.1615 - val_acc: 0.1658\n",
            "Epoch 16/100\n",
            "36/36 [==============================] - 3s 79ms/step - loss: -0.5299 - mse: 0.1620 - acc: 0.1680 - val_loss: -0.5344 - val_mse: 0.1615 - val_acc: 0.1663\n",
            "Epoch 17/100\n",
            "36/36 [==============================] - 3s 79ms/step - loss: -0.5295 - mse: 0.1617 - acc: 0.1652 - val_loss: -0.5342 - val_mse: 0.1613 - val_acc: 0.1653\n",
            "Epoch 18/100\n",
            "36/36 [==============================] - 3s 80ms/step - loss: -0.5314 - mse: 0.1616 - acc: 0.1687 - val_loss: -0.5366 - val_mse: 0.1608 - val_acc: 0.1693\n",
            "Epoch 19/100\n",
            "36/36 [==============================] - 3s 76ms/step - loss: -0.5319 - mse: 0.1609 - acc: 0.1688 - val_loss: -0.5379 - val_mse: 0.1603 - val_acc: 0.1683\n",
            "Epoch 20/100\n",
            "36/36 [==============================] - 3s 78ms/step - loss: -0.5342 - mse: 0.1607 - acc: 0.1704 - val_loss: -0.5387 - val_mse: 0.1599 - val_acc: 0.1698\n",
            "Epoch 21/100\n",
            "36/36 [==============================] - 3s 81ms/step - loss: -0.5322 - mse: 0.1605 - acc: 0.1728 - val_loss: -0.5389 - val_mse: 0.1597 - val_acc: 0.1713\n",
            "Epoch 22/100\n",
            "36/36 [==============================] - 3s 77ms/step - loss: -0.5343 - mse: 0.1599 - acc: 0.1718 - val_loss: -0.5394 - val_mse: 0.1590 - val_acc: 0.1708\n",
            "Epoch 23/100\n",
            "36/36 [==============================] - 3s 79ms/step - loss: -0.5332 - mse: 0.1593 - acc: 0.1728 - val_loss: -0.5400 - val_mse: 0.1582 - val_acc: 0.1738\n",
            "Epoch 24/100\n",
            "36/36 [==============================] - 3s 76ms/step - loss: -0.5376 - mse: 0.1587 - acc: 0.1730 - val_loss: -0.5404 - val_mse: 0.1573 - val_acc: 0.1743\n",
            "Epoch 25/100\n",
            "36/36 [==============================] - 3s 78ms/step - loss: -0.5366 - mse: 0.1579 - acc: 0.1730 - val_loss: -0.5411 - val_mse: 0.1569 - val_acc: 0.1783\n",
            "Epoch 26/100\n",
            "36/36 [==============================] - 3s 77ms/step - loss: -0.5369 - mse: 0.1573 - acc: 0.1770 - val_loss: -0.5415 - val_mse: 0.1559 - val_acc: 0.1803\n",
            "Epoch 27/100\n",
            "36/36 [==============================] - 3s 77ms/step - loss: -0.5374 - mse: 0.1566 - acc: 0.1730 - val_loss: -0.5420 - val_mse: 0.1551 - val_acc: 0.1788\n",
            "Epoch 28/100\n",
            "36/36 [==============================] - 3s 77ms/step - loss: -0.5381 - mse: 0.1554 - acc: 0.1798 - val_loss: -0.5420 - val_mse: 0.1540 - val_acc: 0.1793\n",
            "Epoch 29/100\n",
            "36/36 [==============================] - 3s 75ms/step - loss: -0.5389 - mse: 0.1541 - acc: 0.1752 - val_loss: -0.5426 - val_mse: 0.1530 - val_acc: 0.1728\n",
            "Epoch 30/100\n",
            "36/36 [==============================] - 3s 80ms/step - loss: -0.5424 - mse: 0.1535 - acc: 0.1778 - val_loss: -0.5434 - val_mse: 0.1519 - val_acc: 0.1788\n",
            "Epoch 31/100\n",
            "36/36 [==============================] - 3s 77ms/step - loss: -0.5397 - mse: 0.1522 - acc: 0.1817 - val_loss: -0.5441 - val_mse: 0.1510 - val_acc: 0.1783\n",
            "Epoch 32/100\n",
            "36/36 [==============================] - 3s 78ms/step - loss: -0.5418 - mse: 0.1512 - acc: 0.1831 - val_loss: -0.5441 - val_mse: 0.1502 - val_acc: 0.1833\n",
            "Epoch 33/100\n",
            "36/36 [==============================] - 3s 78ms/step - loss: -0.5403 - mse: 0.1503 - acc: 0.1775 - val_loss: -0.5445 - val_mse: 0.1491 - val_acc: 0.1778\n",
            "Epoch 34/100\n",
            "36/36 [==============================] - 3s 79ms/step - loss: -0.5433 - mse: 0.1497 - acc: 0.1805 - val_loss: -0.5450 - val_mse: 0.1486 - val_acc: 0.1793\n",
            "Epoch 35/100\n",
            "36/36 [==============================] - 3s 78ms/step - loss: -0.5402 - mse: 0.1490 - acc: 0.1793 - val_loss: -0.5452 - val_mse: 0.1474 - val_acc: 0.1748\n",
            "Epoch 36/100\n",
            "36/36 [==============================] - 3s 79ms/step - loss: -0.5427 - mse: 0.1476 - acc: 0.1797 - val_loss: -0.5448 - val_mse: 0.1473 - val_acc: 0.1808\n",
            "Epoch 37/100\n",
            "36/36 [==============================] - 3s 79ms/step - loss: -0.5426 - mse: 0.1473 - acc: 0.1823 - val_loss: -0.5458 - val_mse: 0.1462 - val_acc: 0.1748\n",
            "Epoch 38/100\n",
            "36/36 [==============================] - 3s 77ms/step - loss: -0.5442 - mse: 0.1459 - acc: 0.1805 - val_loss: -0.5456 - val_mse: 0.1453 - val_acc: 0.1823\n",
            "Epoch 39/100\n",
            "36/36 [==============================] - 3s 78ms/step - loss: -0.5436 - mse: 0.1454 - acc: 0.1765 - val_loss: -0.5457 - val_mse: 0.1446 - val_acc: 0.1808\n",
            "Epoch 40/100\n",
            "36/36 [==============================] - 3s 78ms/step - loss: -0.5437 - mse: 0.1449 - acc: 0.1800 - val_loss: -0.5467 - val_mse: 0.1441 - val_acc: 0.1788\n",
            "Epoch 41/100\n",
            "36/36 [==============================] - 3s 88ms/step - loss: -0.5428 - mse: 0.1446 - acc: 0.1794 - val_loss: -0.5463 - val_mse: 0.1433 - val_acc: 0.1803\n",
            "Epoch 42/100\n",
            "36/36 [==============================] - 3s 80ms/step - loss: -0.5462 - mse: 0.1430 - acc: 0.1802 - val_loss: -0.5465 - val_mse: 0.1424 - val_acc: 0.1788\n",
            "Epoch 43/100\n",
            "36/36 [==============================] - 3s 79ms/step - loss: -0.5449 - mse: 0.1423 - acc: 0.1847 - val_loss: -0.5467 - val_mse: 0.1419 - val_acc: 0.1798\n",
            "Epoch 44/100\n",
            "36/36 [==============================] - 3s 79ms/step - loss: -0.5464 - mse: 0.1423 - acc: 0.1828 - val_loss: -0.5473 - val_mse: 0.1411 - val_acc: 0.1793\n",
            "Epoch 45/100\n",
            "36/36 [==============================] - 3s 78ms/step - loss: -0.5449 - mse: 0.1412 - acc: 0.1864 - val_loss: -0.5474 - val_mse: 0.1400 - val_acc: 0.1793\n",
            "Epoch 46/100\n",
            "36/36 [==============================] - 3s 77ms/step - loss: -0.5463 - mse: 0.1408 - acc: 0.1844 - val_loss: -0.5468 - val_mse: 0.1398 - val_acc: 0.1763\n",
            "Epoch 47/100\n",
            "36/36 [==============================] - 3s 78ms/step - loss: -0.5469 - mse: 0.1402 - acc: 0.1808 - val_loss: -0.5473 - val_mse: 0.1395 - val_acc: 0.1793\n",
            "Epoch 48/100\n",
            "36/36 [==============================] - 3s 78ms/step - loss: -0.5459 - mse: 0.1398 - acc: 0.1904 - val_loss: -0.5476 - val_mse: 0.1387 - val_acc: 0.1758\n",
            "Epoch 49/100\n",
            "36/36 [==============================] - 3s 78ms/step - loss: -0.5446 - mse: 0.1393 - acc: 0.1831 - val_loss: -0.5480 - val_mse: 0.1382 - val_acc: 0.1768\n",
            "Epoch 50/100\n",
            "36/36 [==============================] - 3s 79ms/step - loss: -0.5475 - mse: 0.1387 - acc: 0.1865 - val_loss: -0.5480 - val_mse: 0.1373 - val_acc: 0.1763\n",
            "Epoch 51/100\n",
            "36/36 [==============================] - 3s 78ms/step - loss: -0.5478 - mse: 0.1377 - acc: 0.1825 - val_loss: -0.5469 - val_mse: 0.1367 - val_acc: 0.1758\n",
            "Epoch 52/100\n",
            "36/36 [==============================] - 3s 79ms/step - loss: -0.5475 - mse: 0.1372 - acc: 0.1842 - val_loss: -0.5481 - val_mse: 0.1367 - val_acc: 0.1773\n",
            "Epoch 53/100\n",
            "36/36 [==============================] - 3s 78ms/step - loss: -0.5457 - mse: 0.1366 - acc: 0.1792 - val_loss: -0.5481 - val_mse: 0.1364 - val_acc: 0.1773\n",
            "Epoch 54/100\n",
            "36/36 [==============================] - 3s 80ms/step - loss: -0.5474 - mse: 0.1362 - acc: 0.1865 - val_loss: -0.5480 - val_mse: 0.1355 - val_acc: 0.1753\n",
            "Epoch 55/100\n",
            "36/36 [==============================] - 3s 79ms/step - loss: -0.5486 - mse: 0.1357 - acc: 0.1823 - val_loss: -0.5486 - val_mse: 0.1349 - val_acc: 0.1758\n",
            "Epoch 56/100\n",
            "36/36 [==============================] - 3s 79ms/step - loss: -0.5477 - mse: 0.1358 - acc: 0.1884 - val_loss: -0.5484 - val_mse: 0.1352 - val_acc: 0.1783\n",
            "Epoch 57/100\n",
            "36/36 [==============================] - 3s 78ms/step - loss: -0.5472 - mse: 0.1349 - acc: 0.1785 - val_loss: -0.5487 - val_mse: 0.1345 - val_acc: 0.1733\n",
            "Epoch 58/100\n",
            "36/36 [==============================] - 3s 80ms/step - loss: -0.5459 - mse: 0.1347 - acc: 0.1817 - val_loss: -0.5489 - val_mse: 0.1341 - val_acc: 0.1748\n",
            "Epoch 59/100\n",
            "36/36 [==============================] - 3s 79ms/step - loss: -0.5490 - mse: 0.1348 - acc: 0.1840 - val_loss: -0.5488 - val_mse: 0.1337 - val_acc: 0.1758\n",
            "Epoch 60/100\n",
            "36/36 [==============================] - 3s 78ms/step - loss: -0.5475 - mse: 0.1339 - acc: 0.1920 - val_loss: -0.5491 - val_mse: 0.1336 - val_acc: 0.1723\n",
            "Epoch 61/100\n",
            "36/36 [==============================] - 3s 78ms/step - loss: -0.5498 - mse: 0.1332 - acc: 0.1848 - val_loss: -0.5486 - val_mse: 0.1331 - val_acc: 0.1738\n",
            "Epoch 62/100\n",
            "36/36 [==============================] - 3s 79ms/step - loss: -0.5491 - mse: 0.1332 - acc: 0.1847 - val_loss: -0.5492 - val_mse: 0.1329 - val_acc: 0.1748\n",
            "Epoch 63/100\n",
            "36/36 [==============================] - 3s 78ms/step - loss: -0.5498 - mse: 0.1323 - acc: 0.1824 - val_loss: -0.5492 - val_mse: 0.1322 - val_acc: 0.1753\n",
            "Epoch 64/100\n",
            "36/36 [==============================] - 3s 78ms/step - loss: -0.5481 - mse: 0.1324 - acc: 0.1813 - val_loss: -0.5491 - val_mse: 0.1319 - val_acc: 0.1768\n",
            "Epoch 65/100\n",
            "36/36 [==============================] - 3s 80ms/step - loss: -0.5493 - mse: 0.1324 - acc: 0.1861 - val_loss: -0.5492 - val_mse: 0.1315 - val_acc: 0.1743\n",
            "Epoch 66/100\n",
            "36/36 [==============================] - 3s 77ms/step - loss: -0.5488 - mse: 0.1321 - acc: 0.1837 - val_loss: -0.5493 - val_mse: 0.1310 - val_acc: 0.1743\n",
            "Epoch 67/100\n",
            "36/36 [==============================] - 3s 77ms/step - loss: -0.5490 - mse: 0.1311 - acc: 0.1881 - val_loss: -0.5496 - val_mse: 0.1311 - val_acc: 0.1748\n",
            "Epoch 68/100\n",
            "36/36 [==============================] - 3s 76ms/step - loss: -0.5499 - mse: 0.1311 - acc: 0.1921 - val_loss: -0.5495 - val_mse: 0.1306 - val_acc: 0.1758\n",
            "Epoch 69/100\n",
            "36/36 [==============================] - 3s 79ms/step - loss: -0.5498 - mse: 0.1301 - acc: 0.1877 - val_loss: -0.5497 - val_mse: 0.1303 - val_acc: 0.1758\n",
            "Epoch 70/100\n",
            "36/36 [==============================] - 3s 76ms/step - loss: -0.5477 - mse: 0.1301 - acc: 0.1772 - val_loss: -0.5499 - val_mse: 0.1301 - val_acc: 0.1763\n",
            "Epoch 71/100\n",
            "36/36 [==============================] - 3s 78ms/step - loss: -0.5476 - mse: 0.1305 - acc: 0.1833 - val_loss: -0.5497 - val_mse: 0.1297 - val_acc: 0.1778\n",
            "Epoch 72/100\n",
            "36/36 [==============================] - 3s 78ms/step - loss: -0.5484 - mse: 0.1302 - acc: 0.1854 - val_loss: -0.5500 - val_mse: 0.1295 - val_acc: 0.1753\n",
            "Epoch 73/100\n",
            "36/36 [==============================] - 3s 78ms/step - loss: -0.5478 - mse: 0.1300 - acc: 0.1839 - val_loss: -0.5494 - val_mse: 0.1295 - val_acc: 0.1768\n",
            "Epoch 74/100\n",
            "36/36 [==============================] - 3s 76ms/step - loss: -0.5496 - mse: 0.1295 - acc: 0.1854 - val_loss: -0.5497 - val_mse: 0.1286 - val_acc: 0.1758\n",
            "Epoch 75/100\n",
            "36/36 [==============================] - 3s 76ms/step - loss: -0.5520 - mse: 0.1285 - acc: 0.1854 - val_loss: -0.5495 - val_mse: 0.1289 - val_acc: 0.1733\n",
            "Epoch 76/100\n",
            "36/36 [==============================] - 3s 79ms/step - loss: -0.5505 - mse: 0.1285 - acc: 0.1876 - val_loss: -0.5489 - val_mse: 0.1280 - val_acc: 0.1753\n",
            "Epoch 77/100\n",
            "36/36 [==============================] - 3s 75ms/step - loss: -0.5515 - mse: 0.1278 - acc: 0.1838 - val_loss: -0.5487 - val_mse: 0.1278 - val_acc: 0.1733\n",
            "Epoch 78/100\n",
            "36/36 [==============================] - 3s 79ms/step - loss: -0.5492 - mse: 0.1278 - acc: 0.1825 - val_loss: -0.5501 - val_mse: 0.1279 - val_acc: 0.1733\n",
            "Epoch 79/100\n",
            "36/36 [==============================] - 3s 78ms/step - loss: -0.5499 - mse: 0.1281 - acc: 0.1862 - val_loss: -0.5503 - val_mse: 0.1282 - val_acc: 0.1773\n",
            "Epoch 80/100\n",
            "36/36 [==============================] - 3s 77ms/step - loss: -0.5522 - mse: 0.1276 - acc: 0.1840 - val_loss: -0.5501 - val_mse: 0.1275 - val_acc: 0.1763\n",
            "Epoch 81/100\n",
            "36/36 [==============================] - 3s 78ms/step - loss: -0.5515 - mse: 0.1272 - acc: 0.1869 - val_loss: -0.5497 - val_mse: 0.1271 - val_acc: 0.1788\n",
            "Epoch 82/100\n",
            "36/36 [==============================] - 3s 78ms/step - loss: -0.5505 - mse: 0.1276 - acc: 0.1810 - val_loss: -0.5499 - val_mse: 0.1270 - val_acc: 0.1728\n",
            "Epoch 83/100\n",
            "36/36 [==============================] - 3s 77ms/step - loss: -0.5506 - mse: 0.1271 - acc: 0.1836 - val_loss: -0.5501 - val_mse: 0.1273 - val_acc: 0.1798\n",
            "Epoch 84/100\n",
            "36/36 [==============================] - 3s 77ms/step - loss: -0.5538 - mse: 0.1269 - acc: 0.1959 - val_loss: -0.5498 - val_mse: 0.1272 - val_acc: 0.1768\n",
            "Epoch 85/100\n",
            "36/36 [==============================] - 3s 77ms/step - loss: -0.5531 - mse: 0.1262 - acc: 0.1817 - val_loss: -0.5502 - val_mse: 0.1265 - val_acc: 0.1758\n",
            "Epoch 86/100\n",
            "36/36 [==============================] - 3s 77ms/step - loss: -0.5503 - mse: 0.1261 - acc: 0.1805 - val_loss: -0.5494 - val_mse: 0.1261 - val_acc: 0.1758\n",
            "Epoch 87/100\n",
            "36/36 [==============================] - 3s 79ms/step - loss: -0.5505 - mse: 0.1260 - acc: 0.1869 - val_loss: -0.5504 - val_mse: 0.1257 - val_acc: 0.1758\n",
            "Epoch 88/100\n",
            "36/36 [==============================] - 3s 78ms/step - loss: -0.5531 - mse: 0.1257 - acc: 0.1850 - val_loss: -0.5499 - val_mse: 0.1259 - val_acc: 0.1733\n",
            "Epoch 89/100\n",
            "36/36 [==============================] - 3s 78ms/step - loss: -0.5521 - mse: 0.1258 - acc: 0.1852 - val_loss: -0.5498 - val_mse: 0.1254 - val_acc: 0.1803\n",
            "Epoch 90/100\n",
            "36/36 [==============================] - 3s 78ms/step - loss: -0.5530 - mse: 0.1250 - acc: 0.1890 - val_loss: -0.5503 - val_mse: 0.1256 - val_acc: 0.1763\n",
            "Epoch 91/100\n",
            "36/36 [==============================] - 3s 81ms/step - loss: -0.5522 - mse: 0.1258 - acc: 0.1849 - val_loss: -0.5501 - val_mse: 0.1257 - val_acc: 0.1808\n",
            "Epoch 92/100\n",
            "36/36 [==============================] - 3s 78ms/step - loss: -0.5511 - mse: 0.1251 - acc: 0.1859 - val_loss: -0.5503 - val_mse: 0.1252 - val_acc: 0.1768\n",
            "Epoch 93/100\n",
            "36/36 [==============================] - 3s 77ms/step - loss: -0.5511 - mse: 0.1248 - acc: 0.1875 - val_loss: -0.5500 - val_mse: 0.1249 - val_acc: 0.1788\n",
            "Epoch 94/100\n",
            "36/36 [==============================] - 3s 78ms/step - loss: -0.5515 - mse: 0.1247 - acc: 0.1836 - val_loss: -0.5497 - val_mse: 0.1250 - val_acc: 0.1778\n",
            "Epoch 95/100\n",
            "36/36 [==============================] - 3s 82ms/step - loss: -0.5518 - mse: 0.1249 - acc: 0.1891 - val_loss: -0.5504 - val_mse: 0.1249 - val_acc: 0.1758\n",
            "Epoch 96/100\n",
            "36/36 [==============================] - 3s 83ms/step - loss: -0.5531 - mse: 0.1249 - acc: 0.1830 - val_loss: -0.5500 - val_mse: 0.1245 - val_acc: 0.1753\n",
            "Epoch 97/100\n",
            "36/36 [==============================] - 3s 80ms/step - loss: -0.5521 - mse: 0.1245 - acc: 0.1919 - val_loss: -0.5500 - val_mse: 0.1246 - val_acc: 0.1743\n",
            "Epoch 98/100\n",
            "36/36 [==============================] - 3s 79ms/step - loss: -0.5490 - mse: 0.1249 - acc: 0.1810 - val_loss: -0.5504 - val_mse: 0.1238 - val_acc: 0.1758\n",
            "Epoch 99/100\n",
            "36/36 [==============================] - 3s 78ms/step - loss: -0.5531 - mse: 0.1233 - acc: 0.1856 - val_loss: -0.5499 - val_mse: 0.1236 - val_acc: 0.1713\n",
            "Epoch 100/100\n",
            "36/36 [==============================] - 3s 82ms/step - loss: -0.5540 - mse: 0.1235 - acc: 0.1862 - val_loss: -0.5508 - val_mse: 0.1243 - val_acc: 0.1713\n"
          ],
          "name": "stdout"
        }
      ]
    },
    {
      "cell_type": "markdown",
      "metadata": {
        "id": "Ky5KRHUnGccS"
      },
      "source": [
        "### Test on RGB vectors"
      ]
    },
    {
      "cell_type": "markdown",
      "metadata": {
        "id": "_5LsWhlgl0IL"
      },
      "source": [
        "Define a function that takes a RGB vector, finds the vectors from the pre-trained GloVe embedding matrix that are the closest to the vectors output by our network for the RGB, and the corresponding words."
      ]
    },
    {
      "cell_type": "code",
      "metadata": {
        "id": "pVcnad5CfBAK"
      },
      "source": [
        "# Code inspired by\r\n",
        "# https://github.com/airalcorn2/Color-Names/blob/master/color_names.py\r\n",
        "\r\n",
        "def generate_name(rgb, max_tokens, embedd_matrix, words_in_data, color2words, neighbors):\r\n",
        "    \"\"\"Generate name from a color.\r\n",
        "    :param rgb:\r\n",
        "    :param max_tokens:\r\n",
        " \r\n",
        "   :param word2vec:\r\n",
        "    :param color2words:\r\n",
        "    :return:\r\n",
        "    \"\"\"\r\n",
        "\r\n",
        "    # Reshape the rgb vector\r\n",
        "    X_test = np.zeros((max_tokens, 3))\r\n",
        "    X_test[0] = [x/255. for x in rgb]\r\n",
        "    # Get network prediction\r\n",
        "    word_vecs = color2words.predict(X_test)[0]\r\n",
        "    \r\n",
        "    color_name = []\r\n",
        "    embedd_matrix2 = np.copy(embedd_matrix)\r\n",
        "\r\n",
        "    # For each vector in network output\r\n",
        "    # find the closest vectors in embedding matrix and \r\n",
        "    # get the word from the word index\r\n",
        "    nb = 1\r\n",
        "    for word in range(max_tokens):\r\n",
        "\r\n",
        "        word_vec = word_vecs[word]\r\n",
        "        word_mag = np.sqrt(np.dot(word_vec, word_vec))\r\n",
        "        dotted = np.dot(word_vec, embedd_matrix2.T)\r\n",
        "        mags = []\r\n",
        "        for i in range(embedd_matrix2.shape[0]):\r\n",
        "            mags.append(np.sqrt(np.dot(embedd_matrix2[i], embedd_matrix2[i])))\r\n",
        "\r\n",
        "        mags = np.array(mags)\r\n",
        "        cosine = dotted / (word_mag * mags)\r\n",
        "\r\n",
        "        keeps = []\r\n",
        "        print(\"Closest\", neighbors,\"word(s) to output vector number\",nb)\r\n",
        "        for idx in cosine.argsort()[-neighbors:][::-1]:\r\n",
        "            print(words_in_data[idx])\r\n",
        "            keeps.append(idx)\r\n",
        "            color_name.append(words_in_data[idx])\r\n",
        "\r\n",
        "        print()\r\n",
        "        nb= nb + 1\r\n",
        "    return(color_name)"
      ],
      "execution_count": null,
      "outputs": []
    },
    {
      "cell_type": "markdown",
      "metadata": {
        "id": "4cTZ17JCXcnn"
      },
      "source": [
        "In some cases, our model is able to predict sensible non trivial names like \"beautiful beige\" or \"dark purple\"."
      ]
    },
    {
      "cell_type": "code",
      "metadata": {
        "colab": {
          "base_uri": "https://localhost:8080/",
          "height": 307
        },
        "id": "JQU8KyGTWMKP",
        "outputId": "802b1d57-1ecb-48a7-c399-c902c418b810"
      },
      "source": [
        "rgb = np.random.randint(low = 0,high = 255, size = 3).tolist()\r\n",
        "print(rgb)\r\n",
        "plot_rgb(rgb)\r\n",
        "pred_name = generate_name(rgb, 2, np.array(list(embeddings_index.values())), list(embeddings_index.keys()), model2,1)\r\n",
        "print(\"Predicted colour name:\",\" \".join(pred_name))"
      ],
      "execution_count": null,
      "outputs": [
        {
          "output_type": "stream",
          "text": [
            "[115, 16, 100]\n"
          ],
          "name": "stdout"
        },
        {
          "output_type": "display_data",
          "data": {
            "image/png": "[encoded data removed]",
            "text/plain": [
              "<Figure size 144x144 with 1 Axes>"
            ]
          },
          "metadata": {
            "tags": [],
            "needs_background": "light"
          }
        },
        {
          "output_type": "stream",
          "text": [
            "Closest 1 word(s) to output vector number 1\n",
            "dark\n",
            "\n",
            "Closest 1 word(s) to output vector number 2\n",
            "purple\n",
            "\n",
            "Predicted colour name: dark purple\n"
          ],
          "name": "stdout"
        }
      ]
    },
    {
      "cell_type": "code",
      "metadata": {
        "colab": {
          "base_uri": "https://localhost:8080/",
          "height": 307
        },
        "id": "H_OJtdr_s_9c",
        "outputId": "5f8358c5-d6b9-4c86-83cf-e2a4ec48554b"
      },
      "source": [
        "rgb = data.iloc[random.randint(0,len(data)),1:4].tolist()\r\n",
        "print(rgb)\r\n",
        "plot_rgb(rgb)\r\n",
        "pred_name = generate_name(rgb, 2, np.array(list(embeddings_index.values())), list(embeddings_index.keys()), model2,1)\r\n",
        "print(\"Predicted colour name:\",\" \".join(pred_name))"
      ],
      "execution_count": null,
      "outputs": [
        {
          "output_type": "stream",
          "text": [
            "[203, 186, 169]\n"
          ],
          "name": "stdout"
        },
        {
          "output_type": "display_data",
          "data": {
            "image/png": "[encoded data removed]",
            "text/plain": [
              "<Figure size 144x144 with 1 Axes>"
            ]
          },
          "metadata": {
            "tags": [],
            "needs_background": "light"
          }
        },
        {
          "output_type": "stream",
          "text": [
            "Closest 1 word(s) to output vector number 1\n",
            "beautiful\n",
            "\n",
            "Closest 1 word(s) to output vector number 2\n",
            "beige\n",
            "\n",
            "Predicted colour name: beautiful beige\n"
          ],
          "name": "stdout"
        }
      ]
    },
    {
      "cell_type": "markdown",
      "metadata": {
        "id": "t098fAUdYUDG"
      },
      "source": [
        "It sometimes predicts mix of colours."
      ]
    },
    {
      "cell_type": "code",
      "metadata": {
        "colab": {
          "base_uri": "https://localhost:8080/",
          "height": 288
        },
        "id": "Wb7ZV3Brq4TC",
        "outputId": "fa979a5f-8e7a-4ec6-df43-a13f06220829"
      },
      "source": [
        "plot_rgb([195, 82, 14])\r\n",
        "pred_name = generate_name([195, 82, 14], 2, np.array(list(embeddings_index.values())), list(embeddings_index.keys()), model2,1)\r\n",
        "print(\"Predicted colour name:\",\" \".join(pred_name))"
      ],
      "execution_count": null,
      "outputs": [
        {
          "output_type": "display_data",
          "data": {
            "image/png": "[encoded data removed]",
            "text/plain": [
              "<Figure size 144x144 with 1 Axes>"
            ]
          },
          "metadata": {
            "tags": [],
            "needs_background": "light"
          }
        },
        {
          "output_type": "stream",
          "text": [
            "Closest 1 word(s) to output vector number 1\n",
            "red\n",
            "\n",
            "Closest 1 word(s) to output vector number 2\n",
            "orange\n",
            "\n",
            "Predicted colour name: red orange\n"
          ],
          "name": "stdout"
        }
      ]
    },
    {
      "cell_type": "markdown",
      "metadata": {
        "id": "54IVuTJqmxR2"
      },
      "source": [
        "Often it predicts correct but trivial names."
      ]
    },
    {
      "cell_type": "code",
      "metadata": {
        "colab": {
          "base_uri": "https://localhost:8080/",
          "height": 307
        },
        "id": "nX0zZ_vLmcUK",
        "outputId": "386d097f-e13c-4246-fc0a-9428c9681607"
      },
      "source": [
        "from operator import itemgetter\r\n",
        "rgb = np.random.randint(low = 0,high = 255, size = 3).tolist()\r\n",
        "print(rgb)\r\n",
        "plot_rgb(rgb)\r\n",
        "pred_name = generate_name(rgb, 2, np.array(list(embeddings_index.values())), list(embeddings_index.keys()), model2,1)\r\n",
        "print(\"Predicted colour name:\",\" \".join(pred_name))                        "
      ],
      "execution_count": null,
      "outputs": [
        {
          "output_type": "stream",
          "text": [
            "[50, 108, 182]\n"
          ],
          "name": "stdout"
        },
        {
          "output_type": "display_data",
          "data": {
            "image/png": "[encoded data removed]",
            "text/plain": [
              "<Figure size 144x144 with 1 Axes>"
            ]
          },
          "metadata": {
            "tags": [],
            "needs_background": "light"
          }
        },
        {
          "output_type": "stream",
          "text": [
            "Closest 1 word(s) to output vector number 1\n",
            "blue\n",
            "\n",
            "Closest 1 word(s) to output vector number 2\n",
            "blue\n",
            "\n",
            "Predicted colour name: blue blue\n"
          ],
          "name": "stdout"
        }
      ]
    },
    {
      "cell_type": "markdown",
      "metadata": {
        "id": "ZyPO47emSGXL"
      },
      "source": [
        "When we try to find closest vectors in the embedding matrix restricted to the words in our dataset, we obtain creative colour names but hard to find them related to the visual."
      ]
    },
    {
      "cell_type": "code",
      "metadata": {
        "colab": {
          "base_uri": "https://localhost:8080/",
          "height": 420
        },
        "id": "CAyNDj_CQdh8",
        "outputId": "b60610aa-e5bb-492e-ebb2-504362166607"
      },
      "source": [
        "from operator import itemgetter\r\n",
        "rgb = np.random.randint(low = 0,high = 255, size = 3).tolist()\r\n",
        "print(rgb)\r\n",
        "plot_rgb(rgb)\r\n",
        "pred_name = generate_name(rgb, 2, embedding_matrix_inf2[1:], words_in_data, model2,3)\r\n",
        "print(\"Possible combination for the colour name:\",\" \".join(itemgetter(np.random.randint(0,3,1)[0],\r\n",
        "                                                                       np.random.randint(3,6,1)[0])(pred_name)))"
      ],
      "execution_count": null,
      "outputs": [
        {
          "output_type": "stream",
          "text": [
            "[89, 140, 65]\n"
          ],
          "name": "stdout"
        },
        {
          "output_type": "display_data",
          "data": {
            "image/png": "[encoded data removed]",
            "text/plain": [
              "<Figure size 144x144 with 1 Axes>"
            ]
          },
          "metadata": {
            "tags": [],
            "needs_background": "light"
          }
        },
        {
          "output_type": "stream",
          "text": [
            "Closest 3 word(s) to output vector number 1\n",
            "bricktone\n",
            "razzmic\n",
            "liseran\n",
            "\n",
            "Closest 3 word(s) to output vector number 2\n",
            "tropaz\n",
            "tainoi\n",
            "liseran\n",
            "\n",
            "Possible combination for the colour name: razzmic tropaz\n"
          ],
          "name": "stdout"
        },
        {
          "output_type": "stream",
          "text": [
            "/usr/local/lib/python3.6/dist-packages/ipykernel_launcher.py:37: RuntimeWarning: invalid value encountered in true_divide\n"
          ],
          "name": "stderr"
        }
      ]
    },
    {
      "cell_type": "markdown",
      "metadata": {
        "id": "zbnd0zBC-P3Y"
      },
      "source": [
        "### Version for all the colour names - up to 6 words"
      ]
    },
    {
      "cell_type": "code",
      "metadata": {
        "colab": {
          "base_uri": "https://localhost:8080/"
        },
        "id": "830QPOYBkxuo",
        "outputId": "e9c763fa-0d0d-4083-af80-bbce3bdc5abe"
      },
      "source": [
        "embedding_layer = Embedding(len(word_index) + 1,\r\n",
        "                            300,\r\n",
        "                            weights=[embedding_matrix],\r\n",
        "                            input_length=2,\r\n",
        "                            trainable=False)\r\n",
        "tokenized = t.texts_to_sequences(names)\r\n",
        "padded_names = preprocessing.sequence.pad_sequences(tokenized, maxlen=6)\r\n",
        "\r\n",
        "embedded_seq = embedding_layer(padded_names)\r\n",
        "embedded_seq.shape"
      ],
      "execution_count": null,
      "outputs": [
        {
          "output_type": "execute_result",
          "data": {
            "text/plain": [
              "TensorShape([14157, 6, 300])"
            ]
          },
          "metadata": {
            "tags": []
          },
          "execution_count": 235
        }
      ]
    },
    {
      "cell_type": "code",
      "metadata": {
        "colab": {
          "base_uri": "https://localhost:8080/"
        },
        "id": "7kX1y83tV_QD",
        "outputId": "155a6960-3434-4a10-8916-1a647433b82b"
      },
      "source": [
        "model3 = Sequential()\r\n",
        "model3.add(RepeatVector(6, input_shape=(3,)))\r\n",
        "model3.add(Bidirectional(LSTM(32, return_sequences = True)))\r\n",
        "model3.add(Bidirectional(LSTM(64, return_sequences = True)))\r\n",
        "model3.add(Bidirectional(LSTM(128, return_sequences = True)))\r\n",
        "model3.add(LSTM(256, return_sequences = True))\r\n",
        "model3.add(Dropout(0.2))\r\n",
        "model3.add(TimeDistributed(Dense(300)))\r\n",
        "model3.compile(optimizer='adam', loss='cosine_similarity', metrics = ['mse','acc'])\r\n",
        "model3.summary()"
      ],
      "execution_count": null,
      "outputs": [
        {
          "output_type": "stream",
          "text": [
            "Model: \"sequential_34\"\n",
            "_________________________________________________________________\n",
            "Layer (type)                 Output Shape              Param #   \n",
            "=================================================================\n",
            "repeat_vector_5 (RepeatVecto (None, 6, 3)              0         \n",
            "_________________________________________________________________\n",
            "bidirectional_47 (Bidirectio (None, 6, 64)             9216      \n",
            "_________________________________________________________________\n",
            "bidirectional_48 (Bidirectio (None, 6, 128)            66048     \n",
            "_________________________________________________________________\n",
            "bidirectional_49 (Bidirectio (None, 6, 256)            263168    \n",
            "_________________________________________________________________\n",
            "lstm_55 (LSTM)               (None, 6, 256)            525312    \n",
            "_________________________________________________________________\n",
            "dropout_57 (Dropout)         (None, 6, 256)            0         \n",
            "_________________________________________________________________\n",
            "time_distributed_5 (TimeDist (None, 6, 300)            77100     \n",
            "=================================================================\n",
            "Total params: 940,844\n",
            "Trainable params: 940,844\n",
            "Non-trainable params: 0\n",
            "_________________________________________________________________\n"
          ],
          "name": "stdout"
        }
      ]
    },
    {
      "cell_type": "markdown",
      "metadata": {
        "id": "CHzQkqWqcVac"
      },
      "source": [
        "The loss values obtained with the complete dataset are much higher."
      ]
    },
    {
      "cell_type": "code",
      "metadata": {
        "colab": {
          "base_uri": "https://localhost:8080/"
        },
        "id": "qb0J_DK1cs0Q",
        "outputId": "fb4aa7df-8b8b-472b-e16c-c7fdb1d887f2"
      },
      "source": [
        "callback = tf.keras.callbacks.EarlyStopping(monitor='val_loss', patience=3)\r\n",
        "\r\n",
        "history = model3.fit(normalized_values,embedded_seq,\r\n",
        "                    epochs=100,\r\n",
        "                    batch_size=256,\r\n",
        "                    #callbacks=[callback],\r\n",
        "                    validation_split=0.1)"
      ],
      "execution_count": null,
      "outputs": [
        {
          "output_type": "stream",
          "text": [
            "Epoch 1/100\n",
            "50/50 [==============================] - 25s 206ms/step - loss: -0.1168 - mse: 0.0483 - acc: 0.0283 - val_loss: -0.1492 - val_mse: 0.0472 - val_acc: 0.0457\n",
            "Epoch 2/100\n",
            "50/50 [==============================] - 9s 182ms/step - loss: -0.1465 - mse: 0.0478 - acc: 0.0442 - val_loss: -0.1506 - val_mse: 0.0478 - val_acc: 0.0470\n",
            "Epoch 3/100\n",
            "50/50 [==============================] - 9s 189ms/step - loss: -0.1495 - mse: 0.0482 - acc: 0.0451 - val_loss: -0.1510 - val_mse: 0.0481 - val_acc: 0.0466\n",
            "Epoch 4/100\n",
            "50/50 [==============================] - 9s 181ms/step - loss: -0.1511 - mse: 0.0486 - acc: 0.0462 - val_loss: -0.1510 - val_mse: 0.0481 - val_acc: 0.0463\n",
            "Epoch 5/100\n",
            "50/50 [==============================] - 9s 180ms/step - loss: -0.1512 - mse: 0.0486 - acc: 0.0457 - val_loss: -0.1523 - val_mse: 0.0482 - val_acc: 0.0467\n",
            "Epoch 6/100\n",
            "50/50 [==============================] - 9s 179ms/step - loss: -0.1535 - mse: 0.0488 - acc: 0.0466 - val_loss: -0.1526 - val_mse: 0.0480 - val_acc: 0.0474\n",
            "Epoch 7/100\n",
            "50/50 [==============================] - 9s 181ms/step - loss: -0.1541 - mse: 0.0487 - acc: 0.0480 - val_loss: -0.1529 - val_mse: 0.0478 - val_acc: 0.0476\n",
            "Epoch 8/100\n",
            "50/50 [==============================] - 9s 182ms/step - loss: -0.1549 - mse: 0.0485 - acc: 0.0476 - val_loss: -0.1534 - val_mse: 0.0477 - val_acc: 0.0485\n",
            "Epoch 9/100\n",
            "50/50 [==============================] - 9s 180ms/step - loss: -0.1547 - mse: 0.0482 - acc: 0.0489 - val_loss: -0.1536 - val_mse: 0.0475 - val_acc: 0.0481\n",
            "Epoch 10/100\n",
            "50/50 [==============================] - 9s 181ms/step - loss: -0.1554 - mse: 0.0481 - acc: 0.0502 - val_loss: -0.1539 - val_mse: 0.0472 - val_acc: 0.0488\n",
            "Epoch 11/100\n",
            "50/50 [==============================] - 9s 181ms/step - loss: -0.1559 - mse: 0.0479 - acc: 0.0502 - val_loss: -0.1540 - val_mse: 0.0470 - val_acc: 0.0487\n",
            "Epoch 12/100\n",
            "50/50 [==============================] - 9s 187ms/step - loss: -0.1551 - mse: 0.0474 - acc: 0.0492 - val_loss: -0.1544 - val_mse: 0.0468 - val_acc: 0.0484\n",
            "Epoch 13/100\n",
            "50/50 [==============================] - 9s 182ms/step - loss: -0.1552 - mse: 0.0473 - acc: 0.0504 - val_loss: -0.1546 - val_mse: 0.0466 - val_acc: 0.0491\n",
            "Epoch 14/100\n",
            "50/50 [==============================] - 9s 181ms/step - loss: -0.1558 - mse: 0.0471 - acc: 0.0511 - val_loss: -0.1549 - val_mse: 0.0463 - val_acc: 0.0508\n",
            "Epoch 15/100\n",
            "50/50 [==============================] - 9s 182ms/step - loss: -0.1565 - mse: 0.0470 - acc: 0.0506 - val_loss: -0.1550 - val_mse: 0.0460 - val_acc: 0.0499\n",
            "Epoch 16/100\n",
            "50/50 [==============================] - 9s 181ms/step - loss: -0.1556 - mse: 0.0466 - acc: 0.0512 - val_loss: -0.1549 - val_mse: 0.0459 - val_acc: 0.0497\n",
            "Epoch 17/100\n",
            "50/50 [==============================] - 9s 183ms/step - loss: -0.1556 - mse: 0.0465 - acc: 0.0507 - val_loss: -0.1551 - val_mse: 0.0459 - val_acc: 0.0487\n",
            "Epoch 18/100\n",
            "50/50 [==============================] - 9s 180ms/step - loss: -0.1577 - mse: 0.0466 - acc: 0.0510 - val_loss: -0.1556 - val_mse: 0.0457 - val_acc: 0.0505\n",
            "Epoch 19/100\n",
            "50/50 [==============================] - 9s 181ms/step - loss: -0.1589 - mse: 0.0466 - acc: 0.0525 - val_loss: -0.1557 - val_mse: 0.0455 - val_acc: 0.0504\n",
            "Epoch 20/100\n",
            "50/50 [==============================] - 9s 182ms/step - loss: -0.1561 - mse: 0.0459 - acc: 0.0508 - val_loss: -0.1556 - val_mse: 0.0455 - val_acc: 0.0496\n",
            "Epoch 21/100\n",
            "50/50 [==============================] - 9s 183ms/step - loss: -0.1580 - mse: 0.0462 - acc: 0.0518 - val_loss: -0.1559 - val_mse: 0.0454 - val_acc: 0.0497\n",
            "Epoch 22/100\n",
            "50/50 [==============================] - 9s 181ms/step - loss: -0.1565 - mse: 0.0458 - acc: 0.0527 - val_loss: -0.1559 - val_mse: 0.0453 - val_acc: 0.0497\n",
            "Epoch 23/100\n",
            "50/50 [==============================] - 9s 181ms/step - loss: -0.1570 - mse: 0.0459 - acc: 0.0520 - val_loss: -0.1559 - val_mse: 0.0452 - val_acc: 0.0501\n",
            "Epoch 24/100\n",
            "50/50 [==============================] - 9s 184ms/step - loss: -0.1572 - mse: 0.0458 - acc: 0.0517 - val_loss: -0.1561 - val_mse: 0.0453 - val_acc: 0.0504\n",
            "Epoch 25/100\n",
            "50/50 [==============================] - 9s 183ms/step - loss: -0.1575 - mse: 0.0458 - acc: 0.0514 - val_loss: -0.1563 - val_mse: 0.0451 - val_acc: 0.0492\n",
            "Epoch 26/100\n",
            "50/50 [==============================] - 9s 179ms/step - loss: -0.1582 - mse: 0.0456 - acc: 0.0518 - val_loss: -0.1564 - val_mse: 0.0453 - val_acc: 0.0516\n",
            "Epoch 27/100\n",
            "50/50 [==============================] - 9s 181ms/step - loss: -0.1569 - mse: 0.0455 - acc: 0.0511 - val_loss: -0.1565 - val_mse: 0.0451 - val_acc: 0.0507\n",
            "Epoch 28/100\n",
            "50/50 [==============================] - 9s 183ms/step - loss: -0.1575 - mse: 0.0457 - acc: 0.0513 - val_loss: -0.1566 - val_mse: 0.0452 - val_acc: 0.0501\n",
            "Epoch 29/100\n",
            "50/50 [==============================] - 9s 182ms/step - loss: -0.1577 - mse: 0.0457 - acc: 0.0519 - val_loss: -0.1564 - val_mse: 0.0452 - val_acc: 0.0513\n",
            "Epoch 30/100\n",
            "50/50 [==============================] - 9s 181ms/step - loss: -0.1569 - mse: 0.0456 - acc: 0.0508 - val_loss: -0.1566 - val_mse: 0.0456 - val_acc: 0.0508\n",
            "Epoch 31/100\n",
            "50/50 [==============================] - 9s 183ms/step - loss: -0.1578 - mse: 0.0461 - acc: 0.0516 - val_loss: -0.1568 - val_mse: 0.0452 - val_acc: 0.0504\n",
            "Epoch 32/100\n",
            "50/50 [==============================] - 9s 182ms/step - loss: -0.1589 - mse: 0.0460 - acc: 0.0520 - val_loss: -0.1568 - val_mse: 0.0452 - val_acc: 0.0508\n",
            "Epoch 33/100\n",
            "50/50 [==============================] - 9s 182ms/step - loss: -0.1577 - mse: 0.0459 - acc: 0.0530 - val_loss: -0.1569 - val_mse: 0.0456 - val_acc: 0.0493\n",
            "Epoch 34/100\n",
            "50/50 [==============================] - 9s 183ms/step - loss: -0.1577 - mse: 0.0462 - acc: 0.0505 - val_loss: -0.1568 - val_mse: 0.0459 - val_acc: 0.0493\n",
            "Epoch 35/100\n",
            "50/50 [==============================] - 9s 180ms/step - loss: -0.1582 - mse: 0.0460 - acc: 0.0527 - val_loss: -0.1570 - val_mse: 0.0460 - val_acc: 0.0505\n",
            "Epoch 36/100\n",
            "50/50 [==============================] - 9s 180ms/step - loss: -0.1585 - mse: 0.0466 - acc: 0.0527 - val_loss: -0.1569 - val_mse: 0.0457 - val_acc: 0.0510\n",
            "Epoch 37/100\n",
            "50/50 [==============================] - 9s 182ms/step - loss: -0.1593 - mse: 0.0466 - acc: 0.0521 - val_loss: -0.1570 - val_mse: 0.0460 - val_acc: 0.0518\n",
            "Epoch 38/100\n",
            "50/50 [==============================] - 9s 183ms/step - loss: -0.1583 - mse: 0.0470 - acc: 0.0529 - val_loss: -0.1571 - val_mse: 0.0461 - val_acc: 0.0503\n",
            "Epoch 39/100\n",
            "50/50 [==============================] - 9s 180ms/step - loss: -0.1589 - mse: 0.0467 - acc: 0.0520 - val_loss: -0.1572 - val_mse: 0.0465 - val_acc: 0.0498\n",
            "Epoch 40/100\n",
            "50/50 [==============================] - 9s 179ms/step - loss: -0.1584 - mse: 0.0473 - acc: 0.0523 - val_loss: -0.1570 - val_mse: 0.0458 - val_acc: 0.0505\n",
            "Epoch 41/100\n",
            "50/50 [==============================] - 9s 181ms/step - loss: -0.1584 - mse: 0.0471 - acc: 0.0524 - val_loss: -0.1572 - val_mse: 0.0468 - val_acc: 0.0508\n",
            "Epoch 42/100\n",
            "50/50 [==============================] - 9s 179ms/step - loss: -0.1583 - mse: 0.0475 - acc: 0.0518 - val_loss: -0.1573 - val_mse: 0.0475 - val_acc: 0.0511\n",
            "Epoch 43/100\n",
            "50/50 [==============================] - 9s 181ms/step - loss: -0.1587 - mse: 0.0481 - acc: 0.0535 - val_loss: -0.1572 - val_mse: 0.0474 - val_acc: 0.0505\n",
            "Epoch 44/100\n",
            "50/50 [==============================] - 9s 184ms/step - loss: -0.1597 - mse: 0.0480 - acc: 0.0527 - val_loss: -0.1573 - val_mse: 0.0481 - val_acc: 0.0501\n",
            "Epoch 45/100\n",
            "50/50 [==============================] - 9s 181ms/step - loss: -0.1583 - mse: 0.0483 - acc: 0.0517 - val_loss: -0.1572 - val_mse: 0.0483 - val_acc: 0.0496\n",
            "Epoch 46/100\n",
            "50/50 [==============================] - 9s 186ms/step - loss: -0.1606 - mse: 0.0485 - acc: 0.0526 - val_loss: -0.1573 - val_mse: 0.0476 - val_acc: 0.0512\n",
            "Epoch 47/100\n",
            "50/50 [==============================] - 9s 183ms/step - loss: -0.1586 - mse: 0.0485 - acc: 0.0510 - val_loss: -0.1574 - val_mse: 0.0487 - val_acc: 0.0512\n",
            "Epoch 48/100\n",
            "50/50 [==============================] - 9s 182ms/step - loss: -0.1614 - mse: 0.0495 - acc: 0.0537 - val_loss: -0.1573 - val_mse: 0.0487 - val_acc: 0.0503\n",
            "Epoch 49/100\n",
            "50/50 [==============================] - 9s 181ms/step - loss: -0.1597 - mse: 0.0492 - acc: 0.0526 - val_loss: -0.1574 - val_mse: 0.0493 - val_acc: 0.0510\n",
            "Epoch 50/100\n",
            "50/50 [==============================] - 9s 180ms/step - loss: -0.1605 - mse: 0.0503 - acc: 0.0532 - val_loss: -0.1573 - val_mse: 0.0493 - val_acc: 0.0496\n",
            "Epoch 51/100\n",
            "50/50 [==============================] - 9s 185ms/step - loss: -0.1592 - mse: 0.0502 - acc: 0.0510 - val_loss: -0.1575 - val_mse: 0.0506 - val_acc: 0.0503\n",
            "Epoch 52/100\n",
            "50/50 [==============================] - 9s 183ms/step - loss: -0.1602 - mse: 0.0509 - acc: 0.0534 - val_loss: -0.1574 - val_mse: 0.0512 - val_acc: 0.0500\n",
            "Epoch 53/100\n",
            "50/50 [==============================] - 9s 180ms/step - loss: -0.1600 - mse: 0.0516 - acc: 0.0519 - val_loss: -0.1575 - val_mse: 0.0510 - val_acc: 0.0508\n",
            "Epoch 54/100\n",
            "50/50 [==============================] - 9s 183ms/step - loss: -0.1606 - mse: 0.0521 - acc: 0.0517 - val_loss: -0.1574 - val_mse: 0.0513 - val_acc: 0.0510\n",
            "Epoch 55/100\n",
            "50/50 [==============================] - 9s 181ms/step - loss: -0.1603 - mse: 0.0525 - acc: 0.0528 - val_loss: -0.1574 - val_mse: 0.0524 - val_acc: 0.0504\n",
            "Epoch 56/100\n",
            "50/50 [==============================] - 9s 179ms/step - loss: -0.1604 - mse: 0.0522 - acc: 0.0528 - val_loss: -0.1575 - val_mse: 0.0532 - val_acc: 0.0519\n",
            "Epoch 57/100\n",
            "50/50 [==============================] - 9s 181ms/step - loss: -0.1600 - mse: 0.0534 - acc: 0.0523 - val_loss: -0.1574 - val_mse: 0.0530 - val_acc: 0.0507\n",
            "Epoch 58/100\n",
            "50/50 [==============================] - 9s 179ms/step - loss: -0.1612 - mse: 0.0534 - acc: 0.0532 - val_loss: -0.1574 - val_mse: 0.0528 - val_acc: 0.0508\n",
            "Epoch 59/100\n",
            "50/50 [==============================] - 9s 182ms/step - loss: -0.1602 - mse: 0.0543 - acc: 0.0530 - val_loss: -0.1575 - val_mse: 0.0538 - val_acc: 0.0499\n",
            "Epoch 60/100\n",
            "50/50 [==============================] - 9s 180ms/step - loss: -0.1603 - mse: 0.0545 - acc: 0.0517 - val_loss: -0.1574 - val_mse: 0.0542 - val_acc: 0.0512\n",
            "Epoch 61/100\n",
            "50/50 [==============================] - 9s 182ms/step - loss: -0.1597 - mse: 0.0549 - acc: 0.0532 - val_loss: -0.1575 - val_mse: 0.0556 - val_acc: 0.0505\n",
            "Epoch 62/100\n",
            "50/50 [==============================] - 9s 179ms/step - loss: -0.1577 - mse: 0.0556 - acc: 0.0521 - val_loss: -0.1577 - val_mse: 0.0552 - val_acc: 0.0513\n",
            "Epoch 63/100\n",
            "50/50 [==============================] - 9s 180ms/step - loss: -0.1608 - mse: 0.0562 - acc: 0.0530 - val_loss: -0.1576 - val_mse: 0.0565 - val_acc: 0.0505\n",
            "Epoch 64/100\n",
            "50/50 [==============================] - 9s 180ms/step - loss: -0.1609 - mse: 0.0567 - acc: 0.0531 - val_loss: -0.1576 - val_mse: 0.0558 - val_acc: 0.0514\n",
            "Epoch 65/100\n",
            "50/50 [==============================] - 9s 179ms/step - loss: -0.1604 - mse: 0.0568 - acc: 0.0532 - val_loss: -0.1575 - val_mse: 0.0580 - val_acc: 0.0510\n",
            "Epoch 66/100\n",
            "50/50 [==============================] - 9s 180ms/step - loss: -0.1603 - mse: 0.0576 - acc: 0.0515 - val_loss: -0.1575 - val_mse: 0.0594 - val_acc: 0.0510\n",
            "Epoch 67/100\n",
            "50/50 [==============================] - 9s 178ms/step - loss: -0.1606 - mse: 0.0592 - acc: 0.0535 - val_loss: -0.1575 - val_mse: 0.0591 - val_acc: 0.0511\n",
            "Epoch 68/100\n",
            "50/50 [==============================] - 9s 182ms/step - loss: -0.1611 - mse: 0.0594 - acc: 0.0533 - val_loss: -0.1573 - val_mse: 0.0602 - val_acc: 0.0517\n",
            "Epoch 69/100\n",
            "50/50 [==============================] - 9s 182ms/step - loss: -0.1608 - mse: 0.0594 - acc: 0.0532 - val_loss: -0.1574 - val_mse: 0.0586 - val_acc: 0.0517\n",
            "Epoch 70/100\n",
            "50/50 [==============================] - 9s 181ms/step - loss: -0.1609 - mse: 0.0598 - acc: 0.0521 - val_loss: -0.1575 - val_mse: 0.0600 - val_acc: 0.0516\n",
            "Epoch 71/100\n",
            "50/50 [==============================] - 9s 182ms/step - loss: -0.1609 - mse: 0.0606 - acc: 0.0530 - val_loss: -0.1576 - val_mse: 0.0620 - val_acc: 0.0516\n",
            "Epoch 72/100\n",
            "50/50 [==============================] - 9s 179ms/step - loss: -0.1614 - mse: 0.0618 - acc: 0.0533 - val_loss: -0.1574 - val_mse: 0.0605 - val_acc: 0.0523\n",
            "Epoch 73/100\n",
            "50/50 [==============================] - 9s 179ms/step - loss: -0.1613 - mse: 0.0616 - acc: 0.0537 - val_loss: -0.1575 - val_mse: 0.0635 - val_acc: 0.0519\n",
            "Epoch 74/100\n",
            "50/50 [==============================] - 9s 178ms/step - loss: -0.1613 - mse: 0.0638 - acc: 0.0532 - val_loss: -0.1576 - val_mse: 0.0633 - val_acc: 0.0508\n",
            "Epoch 75/100\n",
            "50/50 [==============================] - 9s 181ms/step - loss: -0.1601 - mse: 0.0642 - acc: 0.0527 - val_loss: -0.1576 - val_mse: 0.0648 - val_acc: 0.0520\n",
            "Epoch 76/100\n",
            "50/50 [==============================] - 9s 180ms/step - loss: -0.1612 - mse: 0.0656 - acc: 0.0534 - val_loss: -0.1575 - val_mse: 0.0657 - val_acc: 0.0519\n",
            "Epoch 77/100\n",
            "50/50 [==============================] - 9s 180ms/step - loss: -0.1611 - mse: 0.0674 - acc: 0.0527 - val_loss: -0.1575 - val_mse: 0.0669 - val_acc: 0.0520\n",
            "Epoch 78/100\n",
            "50/50 [==============================] - 9s 180ms/step - loss: -0.1618 - mse: 0.0673 - acc: 0.0525 - val_loss: -0.1573 - val_mse: 0.0682 - val_acc: 0.0513\n",
            "Epoch 79/100\n",
            "50/50 [==============================] - 9s 181ms/step - loss: -0.1598 - mse: 0.0702 - acc: 0.0530 - val_loss: -0.1575 - val_mse: 0.0706 - val_acc: 0.0511\n",
            "Epoch 80/100\n",
            "50/50 [==============================] - 9s 185ms/step - loss: -0.1618 - mse: 0.0704 - acc: 0.0533 - val_loss: -0.1574 - val_mse: 0.0718 - val_acc: 0.0507\n",
            "Epoch 81/100\n",
            "50/50 [==============================] - 9s 183ms/step - loss: -0.1608 - mse: 0.0726 - acc: 0.0514 - val_loss: -0.1575 - val_mse: 0.0744 - val_acc: 0.0525\n",
            "Epoch 82/100\n",
            "50/50 [==============================] - 9s 180ms/step - loss: -0.1615 - mse: 0.0737 - acc: 0.0534 - val_loss: -0.1571 - val_mse: 0.0726 - val_acc: 0.0520\n",
            "Epoch 83/100\n",
            "50/50 [==============================] - 9s 181ms/step - loss: -0.1611 - mse: 0.0738 - acc: 0.0529 - val_loss: -0.1574 - val_mse: 0.0743 - val_acc: 0.0520\n",
            "Epoch 84/100\n",
            "50/50 [==============================] - 9s 181ms/step - loss: -0.1615 - mse: 0.0752 - acc: 0.0545 - val_loss: -0.1574 - val_mse: 0.0774 - val_acc: 0.0513\n",
            "Epoch 85/100\n",
            "50/50 [==============================] - 9s 182ms/step - loss: -0.1611 - mse: 0.0775 - acc: 0.0529 - val_loss: -0.1568 - val_mse: 0.0795 - val_acc: 0.0498\n",
            "Epoch 86/100\n",
            "50/50 [==============================] - 9s 183ms/step - loss: -0.1617 - mse: 0.0802 - acc: 0.0528 - val_loss: -0.1574 - val_mse: 0.0794 - val_acc: 0.0513\n",
            "Epoch 87/100\n",
            "50/50 [==============================] - 9s 182ms/step - loss: -0.1606 - mse: 0.0803 - acc: 0.0529 - val_loss: -0.1573 - val_mse: 0.0822 - val_acc: 0.0516\n",
            "Epoch 88/100\n",
            "50/50 [==============================] - 9s 181ms/step - loss: -0.1610 - mse: 0.0836 - acc: 0.0530 - val_loss: -0.1574 - val_mse: 0.0845 - val_acc: 0.0517\n",
            "Epoch 89/100\n",
            "50/50 [==============================] - 9s 180ms/step - loss: -0.1618 - mse: 0.0843 - acc: 0.0541 - val_loss: -0.1572 - val_mse: 0.0834 - val_acc: 0.0513\n",
            "Epoch 90/100\n",
            "50/50 [==============================] - 9s 181ms/step - loss: -0.1610 - mse: 0.0861 - acc: 0.0529 - val_loss: -0.1572 - val_mse: 0.0877 - val_acc: 0.0525\n",
            "Epoch 91/100\n",
            "50/50 [==============================] - 9s 181ms/step - loss: -0.1600 - mse: 0.0891 - acc: 0.0525 - val_loss: -0.1571 - val_mse: 0.0909 - val_acc: 0.0513\n",
            "Epoch 92/100\n",
            "50/50 [==============================] - 9s 181ms/step - loss: -0.1608 - mse: 0.0913 - acc: 0.0544 - val_loss: -0.1571 - val_mse: 0.0916 - val_acc: 0.0500\n",
            "Epoch 93/100\n",
            "50/50 [==============================] - 9s 183ms/step - loss: -0.1627 - mse: 0.0918 - acc: 0.0531 - val_loss: -0.1571 - val_mse: 0.0945 - val_acc: 0.0514\n",
            "Epoch 94/100\n",
            "50/50 [==============================] - 9s 183ms/step - loss: -0.1617 - mse: 0.0949 - acc: 0.0519 - val_loss: -0.1568 - val_mse: 0.0950 - val_acc: 0.0519\n",
            "Epoch 95/100\n",
            "50/50 [==============================] - 9s 181ms/step - loss: -0.1617 - mse: 0.0964 - acc: 0.0536 - val_loss: -0.1572 - val_mse: 0.0972 - val_acc: 0.0523\n",
            "Epoch 96/100\n",
            "50/50 [==============================] - 9s 181ms/step - loss: -0.1609 - mse: 0.0993 - acc: 0.0527 - val_loss: -0.1572 - val_mse: 0.1002 - val_acc: 0.0534\n",
            "Epoch 97/100\n",
            "50/50 [==============================] - 9s 183ms/step - loss: -0.1615 - mse: 0.1010 - acc: 0.0523 - val_loss: -0.1572 - val_mse: 0.1007 - val_acc: 0.0507\n",
            "Epoch 98/100\n",
            "50/50 [==============================] - 9s 181ms/step - loss: -0.1607 - mse: 0.1028 - acc: 0.0523 - val_loss: -0.1569 - val_mse: 0.1045 - val_acc: 0.0526\n",
            "Epoch 99/100\n",
            "50/50 [==============================] - 9s 179ms/step - loss: -0.1632 - mse: 0.1050 - acc: 0.0542 - val_loss: -0.1569 - val_mse: 0.1058 - val_acc: 0.0536\n",
            "Epoch 100/100\n",
            "50/50 [==============================] - 9s 182ms/step - loss: -0.1618 - mse: 0.1095 - acc: 0.0519 - val_loss: -0.1569 - val_mse: 0.1112 - val_acc: 0.0504\n"
          ],
          "name": "stdout"
        }
      ]
    },
    {
      "cell_type": "markdown",
      "metadata": {
        "id": "qlcJW2qRhUWb"
      },
      "source": [
        "We can obtain the closest words for each of the 6 of the output vector."
      ]
    },
    {
      "cell_type": "code",
      "metadata": {
        "colab": {
          "base_uri": "https://localhost:8080/",
          "height": 794
        },
        "id": "DAS9wAMccCY4",
        "outputId": "58033cf6-3dce-4c03-f784-8c4b4c6a0e40"
      },
      "source": [
        "from operator import itemgetter\r\n",
        "rgb = np.random.randint(low = 0,high = 255, size = 3).tolist()\r\n",
        "print(rgb)\r\n",
        "plot_rgb(rgb)\r\n",
        "pred_name = generate_name(rgb, 6, embedding_matrix_inf2[1:], words_in_data, model3,3)\r\n",
        "print(\"Possible combination for the colour name:\",\" \".join(itemgetter(np.random.randint(0,3,1)[0],\r\n",
        "                                                                       np.random.randint(3,6,1)[0])(pred_name)))"
      ],
      "execution_count": null,
      "outputs": [
        {
          "output_type": "stream",
          "text": [
            "[135, 203, 28]\n"
          ],
          "name": "stdout"
        },
        {
          "output_type": "display_data",
          "data": {
            "image/png": "[encoded data removed]",
            "text/plain": [
              "<Figure size 144x144 with 1 Axes>"
            ]
          },
          "metadata": {
            "tags": [],
            "needs_background": "light"
          }
        },
        {
          "output_type": "stream",
          "text": [
            "Closest 3 word(s) to output vector number 1\n",
            "loeen\n",
            "beachcrest\n",
            "hodley\n",
            "\n",
            "Closest 3 word(s) to output vector number 2\n",
            "dartsmouth\n",
            "mopboard\n",
            "corlsbud\n",
            "\n",
            "Closest 3 word(s) to output vector number 3\n",
            "driftscape\n",
            "arylide\n",
            "aganthus\n",
            "\n",
            "Closest 3 word(s) to output vector number 4\n",
            "aganthus\n",
            "rubiate\n",
            "beachcrest\n",
            "\n",
            "Closest 3 word(s) to output vector number 5\n",
            "aganthus\n",
            "corlsbud\n",
            "jamesboro\n",
            "\n",
            "Closest 3 word(s) to output vector number 6\n",
            "aganthus\n",
            "beachcrest\n",
            "bricktone\n",
            "\n",
            "Possible combination for the colour name: beachcrest dartsmouth\n"
          ],
          "name": "stdout"
        },
        {
          "output_type": "stream",
          "text": [
            "/usr/local/lib/python3.6/dist-packages/ipykernel_launcher.py:37: RuntimeWarning: invalid value encountered in true_divide\n"
          ],
          "name": "stderr"
        }
      ]
    },
    {
      "cell_type": "markdown",
      "metadata": {
        "id": "Jsgki4yCc40F"
      },
      "source": [
        "## Report - summary"
      ]
    },
    {
      "cell_type": "markdown",
      "metadata": {
        "id": "G6a98JKGNe4R"
      },
      "source": [
        "### Task 1\n",
        "\n",
        "1. Which is the best model you have build? (architecture, word representations, etc.)\n",
        "\n",
        "Approach and model:\n",
        "\n",
        "\n",
        "*   Tokenization at word level,\n",
        "*   GloVe pre-trained embeddings with 42B words, trained on Common Crawl and with dimension 300,\n",
        "*   Archictecture: embedding layer, single bidirectional LSTM, two dropout layers, one final dense layer,\n",
        "*   training with mean squared error as loss, adamax as optimizer.\n",
        "\n",
        "<br>\n",
        "\n",
        "2. Report in terms of accuracy\n",
        "\n",
        "We obtained a validation MSE of 0.0365.\n",
        "\n",
        "<br>\n",
        "\n",
        "3. Examples\n"
      ]
    },
    {
      "cell_type": "code",
      "metadata": {
        "colab": {
          "base_uri": "https://localhost:8080/",
          "height": 652
        },
        "id": "QvOyuFgLg_up",
        "outputId": "c76e30b9-f07a-4730-ad2f-a4cf6b3bb6ae"
      },
      "source": [
        "predict(\"brick\")\r\n",
        "predict(\"red yellow\")\r\n",
        "predict(\"red red yellow\")\r\n",
        "predict(\"dark blue\")"
      ],
      "execution_count": null,
      "outputs": [
        {
          "output_type": "stream",
          "text": [
            "brick, R,G,B: 150 97 77\n"
          ],
          "name": "stdout"
        },
        {
          "output_type": "display_data",
          "data": {
            "image/png": "[encoded data removed]",
            "text/plain": [
              "<Figure size 144x144 with 1 Axes>"
            ]
          },
          "metadata": {
            "tags": [],
            "needs_background": "light"
          }
        },
        {
          "output_type": "stream",
          "text": [
            "red yellow, R,G,B: 236 158 42\n"
          ],
          "name": "stdout"
        },
        {
          "output_type": "display_data",
          "data": {
            "image/png": "[encoded data removed]",
            "text/plain": [
              "<Figure size 144x144 with 1 Axes>"
            ]
          },
          "metadata": {
            "tags": [],
            "needs_background": "light"
          }
        },
        {
          "output_type": "stream",
          "text": [
            "red red yellow, R,G,B: 235 107 32\n"
          ],
          "name": "stdout"
        },
        {
          "output_type": "display_data",
          "data": {
            "image/png": "[encoded data removed]",
            "text/plain": [
              "<Figure size 144x144 with 1 Axes>"
            ]
          },
          "metadata": {
            "tags": [],
            "needs_background": "light"
          }
        },
        {
          "output_type": "stream",
          "text": [
            "dark blue, R,G,B: 40 68 112\n"
          ],
          "name": "stdout"
        },
        {
          "output_type": "display_data",
          "data": {
            "image/png": "[encoded data removed]",
            "text/plain": [
              "<Figure size 144x144 with 1 Axes>"
            ]
          },
          "metadata": {
            "tags": [],
            "needs_background": "light"
          }
        }
      ]
    },
    {
      "cell_type": "markdown",
      "metadata": {
        "id": "66CveuNic-Ai"
      },
      "source": [
        "### Task 2\r\n",
        "\r\n",
        "1. Which is the best model you have build? (architecture, word representations, etc.)\r\n",
        "\r\n",
        "Approach and model:\r\n",
        "\r\n",
        "*   Tokenization at word level of colour names,\r\n",
        "*   Embedding of colour names with the same GloVe pre-trained embeddings,\r\n",
        "*   Archictecture: 3 bidirectional LSTM layers and one LSTM layer of increasing size, one dropout layer, one final dense layer,\r\n",
        "*   Training with cosine similarity as loss and adam optimizer,\r\n",
        "*   Predicting colour names by looking for the closest vectors in the pre-trained embedding matrix\r\n",
        "\r\n",
        "<br>\r\n",
        "\r\n",
        "2. Report, in terms of accuracy\r\n",
        "\r\n",
        "In validation set we obtained a cosine similarity of 0.5508 and an accuracy of 0.17 (not very informative because our approach treats the problem as a regression problem).\r\n",
        "\r\n",
        "<br>\r\n",
        "\r\n",
        "3. Examples \r\n"
      ]
    },
    {
      "cell_type": "code",
      "metadata": {
        "colab": {
          "base_uri": "https://localhost:8080/",
          "height": 307
        },
        "id": "SkrXOydohtbC",
        "outputId": "9955d831-59e9-4354-f340-ad6fd728d4bd"
      },
      "source": [
        "rgb = [203, 186, 169]\r\n",
        "print(rgb)\r\n",
        "plot_rgb(rgb)\r\n",
        "pred_name = generate_name(rgb, 2, np.array(list(embeddings_index.values())), list(embeddings_index.keys()), model2,1)\r\n",
        "print(\"Predicted colour name:\",\" \".join(pred_name))"
      ],
      "execution_count": null,
      "outputs": [
        {
          "output_type": "stream",
          "text": [
            "[203, 186, 169]\n"
          ],
          "name": "stdout"
        },
        {
          "output_type": "display_data",
          "data": {
            "image/png": "[encoded data removed]",
            "text/plain": [
              "<Figure size 144x144 with 1 Axes>"
            ]
          },
          "metadata": {
            "tags": [],
            "needs_background": "light"
          }
        },
        {
          "output_type": "stream",
          "text": [
            "Closest 1 word(s) to output vector number 1\n",
            "beautiful\n",
            "\n",
            "Closest 1 word(s) to output vector number 2\n",
            "beige\n",
            "\n",
            "Predicted colour name: beautiful beige\n"
          ],
          "name": "stdout"
        }
      ]
    },
    {
      "cell_type": "code",
      "metadata": {
        "colab": {
          "base_uri": "https://localhost:8080/",
          "height": 288
        },
        "id": "o0qS49oIiNWK",
        "outputId": "f0e8911a-edba-4093-840a-32035421ca54"
      },
      "source": [
        "plot_rgb([195, 82, 14])\r\n",
        "pred_name = generate_name([195, 82, 14], 2, np.array(list(embeddings_index.values())), list(embeddings_index.keys()), model2,1)\r\n",
        "print(\"Predicted colour name:\",\" \".join(pred_name))"
      ],
      "execution_count": null,
      "outputs": [
        {
          "output_type": "display_data",
          "data": {
            "image/png": "[encoded data removed]",
            "text/plain": [
              "<Figure size 144x144 with 1 Axes>"
            ]
          },
          "metadata": {
            "tags": [],
            "needs_background": "light"
          }
        },
        {
          "output_type": "stream",
          "text": [
            "Closest 1 word(s) to output vector number 1\n",
            "red\n",
            "\n",
            "Closest 1 word(s) to output vector number 2\n",
            "orange\n",
            "\n",
            "Predicted colour name: red orange\n"
          ],
          "name": "stdout"
        }
      ]
    },
    {
      "cell_type": "code",
      "metadata": {
        "colab": {
          "base_uri": "https://localhost:8080/",
          "height": 307
        },
        "id": "ccp0vJp6iUIR",
        "outputId": "bde7dba4-8ad5-4dda-b3bf-0288b54d2789"
      },
      "source": [
        "rgb = [115, 16, 100]\r\n",
        "print(rgb)\r\n",
        "plot_rgb(rgb)\r\n",
        "pred_name = generate_name(rgb, 2, np.array(list(embeddings_index.values())), list(embeddings_index.keys()), model2,1)\r\n",
        "print(\"Predicted colour name:\",\" \".join(pred_name))"
      ],
      "execution_count": null,
      "outputs": [
        {
          "output_type": "stream",
          "text": [
            "[115, 16, 100]\n"
          ],
          "name": "stdout"
        },
        {
          "output_type": "display_data",
          "data": {
            "image/png": "[encoded data removed]",
            "text/plain": [
              "<Figure size 144x144 with 1 Axes>"
            ]
          },
          "metadata": {
            "tags": [],
            "needs_background": "light"
          }
        },
        {
          "output_type": "stream",
          "text": [
            "Closest 1 word(s) to output vector number 1\n",
            "dark\n",
            "\n",
            "Closest 1 word(s) to output vector number 2\n",
            "purple\n",
            "\n",
            "Predicted colour name: dark purple\n"
          ],
          "name": "stdout"
        }
      ]
    }
  ]
}